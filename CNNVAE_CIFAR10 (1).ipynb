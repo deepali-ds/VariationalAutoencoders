{
  "nbformat": 4,
  "nbformat_minor": 0,
  "metadata": {
    "colab": {
      "provenance": [],
      "gpuType": "T4"
    },
    "kernelspec": {
      "name": "python3",
      "display_name": "Python 3"
    },
    "language_info": {
      "name": "python"
    },
    "accelerator": "GPU"
  },
  "cells": [
    {
      "cell_type": "code",
      "execution_count": null,
      "metadata": {
        "colab": {
          "base_uri": "https://localhost:8080/"
        },
        "id": "4WGv4hii4BG4",
        "outputId": "d0e89a44-3351-4027-af35-6c771a83618f"
      },
      "outputs": [
        {
          "output_type": "stream",
          "name": "stdout",
          "text": [
            "Using device: cuda\n"
          ]
        }
      ],
      "source": [
        "import torch\n",
        "import torch.nn as nn\n",
        "import torch.nn.functional as F\n",
        "import torchvision\n",
        "import torchvision.transforms as transforms\n",
        "from torch.utils.data import DataLoader\n",
        "import matplotlib.pyplot as plt\n",
        "from tqdm import tqdm\n",
        "import numpy as np\n",
        "\n",
        "device = torch.device(\"cuda\" if torch.cuda.is_available() else \"cpu\")\n",
        "print(\"Using device:\", device)\n"
      ]
    },
    {
      "cell_type": "code",
      "source": [
        "transform = transforms.Compose([\n",
        "    transforms.ToTensor()\n",
        "])\n",
        "\n",
        "train_dataset = torchvision.datasets.CIFAR10(root='./data', train=True, transform=transform, download=True)\n",
        "test_dataset = torchvision.datasets.CIFAR10(root='./data', train=False, transform=transform, download=True)\n",
        "\n",
        "train_loader = DataLoader(train_dataset, batch_size=128, shuffle=True)\n",
        "test_loader = DataLoader(test_dataset, batch_size=128, shuffle=False)\n"
      ],
      "metadata": {
        "id": "kjTrKkfh4Dmn"
      },
      "execution_count": null,
      "outputs": []
    },
    {
      "cell_type": "code",
      "source": [
        "latent_dim = 100\n",
        "learning_rate = 1e-3\n",
        "batch_size = 128\n",
        "epochs = 20\n",
        "kl_weight = 0.000075\n"
      ],
      "metadata": {
        "id": "0EicYUXw82_M"
      },
      "execution_count": null,
      "outputs": []
    },
    {
      "cell_type": "code",
      "source": [
        "class VAE(nn.Module):\n",
        "    def __init__(self, latent_dim=100):\n",
        "        super(VAE, self).__init__()\n",
        "        self.encoder = nn.Sequential(\n",
        "            nn.Conv2d(3, 32, 4, 2, 1),  # [B, 32, 16, 16]\n",
        "            nn.ReLU(),\n",
        "            nn.Conv2d(32, 64, 4, 2, 1),  # [B, 64, 8, 8]\n",
        "            nn.ReLU(),\n",
        "            nn.Conv2d(64, 128, 4, 2, 1),  # [B, 128, 4, 4]\n",
        "            nn.ReLU(),\n",
        "        )\n",
        "        self.flatten = nn.Flatten()\n",
        "        self.fc_mu = nn.Linear(128*4*4, latent_dim)\n",
        "        self.fc_logvar = nn.Linear(128*4*4, latent_dim)\n",
        "        self.fc_decode = nn.Linear(latent_dim, 128*4*4)\n",
        "\n",
        "        self.decoder = nn.Sequential(\n",
        "            nn.ConvTranspose2d(128, 64, 4, 2, 1),  # [B, 64, 8, 8]\n",
        "            nn.ReLU(),\n",
        "            nn.ConvTranspose2d(64, 32, 4, 2, 1),  # [B, 32, 16, 16]\n",
        "            nn.ReLU(),\n",
        "            nn.ConvTranspose2d(32, 3, 4, 2, 1),   # [B, 3, 32, 32]\n",
        "            nn.Sigmoid()\n",
        "        )\n",
        "\n",
        "    def reparameterize(self, mu, logvar):\n",
        "        std = torch.exp(0.5 * logvar)\n",
        "        eps = torch.randn_like(std)\n",
        "        return mu + eps * std\n",
        "\n",
        "    def forward(self, x):\n",
        "        x_enc = self.encoder(x)\n",
        "        x_flat = self.flatten(x_enc)\n",
        "        mu = self.fc_mu(x_flat)\n",
        "        logvar = self.fc_logvar(x_flat)\n",
        "        z = self.reparameterize(mu, logvar)\n",
        "        x_dec = self.fc_decode(z).view(-1, 128, 4, 4)\n",
        "        recon = self.decoder(x_dec)\n",
        "        return recon, mu, logvar"
      ],
      "metadata": {
        "id": "hCn2TTrH4FJj"
      },
      "execution_count": null,
      "outputs": []
    },
    {
      "cell_type": "code",
      "source": [
        "def vae_loss(recon_x, x, mu, logvar):\n",
        "    recon_loss = criterion(recon_x, x)\n",
        "    kl_loss = torch.sum(-0.5 * (1 + logvar - mu.pow(2) - logvar.exp()))\n",
        "    total_loss = recon_loss + kl_weight * kl_loss\n",
        "    return total_loss, recon_loss, kl_loss"
      ],
      "metadata": {
        "id": "nJug4Xfx4Gic"
      },
      "execution_count": null,
      "outputs": []
    },
    {
      "cell_type": "code",
      "source": [
        "model = VAE(latent_dim=100).to(device)\n",
        "optimizer = torch.optim.Adam(model.parameters(), lr=1e-3)\n",
        "criterion = nn.MSELoss(reduction='sum')\n",
        "epochs = 30\n",
        "\n",
        "best_test_loss = float('inf')\n",
        "\n",
        "for epoch in range(epochs):\n",
        "    model.train()\n",
        "    total_loss = 0\n",
        "    for x, _ in tqdm(train_loader, desc=f\"Epoch {epoch+1}/{epochs}\"):\n",
        "        x = x.to(device)\n",
        "        optimizer.zero_grad()\n",
        "        recon, mu, logvar = model(x)\n",
        "        loss, recon_loss, kl_loss = vae_loss(recon, x, mu, logvar)\n",
        "        loss.backward()\n",
        "        optimizer.step()\n",
        "        total_loss += loss.item()\n",
        "\n",
        "    avg_train_loss = total_loss / len(train_loader.dataset)\n",
        "    print(f\"Epoch [{epoch+1}/{epochs}] Train Loss: {avg_train_loss:.4f}\")\n",
        "\n",
        "    # --- Evaluation ---\n",
        "    model.eval()\n",
        "    test_loss = 0\n",
        "    with torch.no_grad():\n",
        "        for x, _ in test_loader:\n",
        "            x = x.to(device)\n",
        "            recon, mu, logvar = model(x)\n",
        "            loss, _, _ = vae_loss(recon, x, mu, logvar)\n",
        "            test_loss += loss.item()\n",
        "\n",
        "    avg_test_loss = test_loss / len(test_loader.dataset)\n",
        "    print(f\"Epoch [{epoch+1}/{epochs}] Test Loss: {avg_test_loss:.4f}\")\n",
        "\n",
        "    # --- Save Best Model ---\n",
        "    if avg_test_loss < best_test_loss:\n",
        "        best_test_loss = avg_test_loss\n",
        "        torch.save(model.state_dict(), \"best_vae.pth\")\n",
        "        print(f\"✅ Best model saved at epoch {epoch+1} with test loss: {best_test_loss:.4f}\")\n",
        "\n"
      ],
      "metadata": {
        "colab": {
          "base_uri": "https://localhost:8080/"
        },
        "id": "114u8xtL4Hcz",
        "outputId": "1b5e7637-29c8-4563-ed3b-b73e546dd83d"
      },
      "execution_count": null,
      "outputs": [
        {
          "output_type": "stream",
          "name": "stderr",
          "text": [
            "Epoch 1/30: 100%|██████████| 391/391 [00:13<00:00, 28.04it/s]\n"
          ]
        },
        {
          "output_type": "stream",
          "name": "stdout",
          "text": [
            "Epoch [1/30] Train Loss: 68.6737\n",
            "Epoch [1/30] Test Loss: 38.3294\n",
            "✅ Best model saved at epoch 1 with test loss: 38.3294\n"
          ]
        },
        {
          "output_type": "stream",
          "name": "stderr",
          "text": [
            "Epoch 2/30: 100%|██████████| 391/391 [00:12<00:00, 30.08it/s]\n"
          ]
        },
        {
          "output_type": "stream",
          "name": "stdout",
          "text": [
            "Epoch [2/30] Train Loss: 33.4319\n",
            "Epoch [2/30] Test Loss: 29.3445\n",
            "✅ Best model saved at epoch 2 with test loss: 29.3445\n"
          ]
        },
        {
          "output_type": "stream",
          "name": "stderr",
          "text": [
            "Epoch 3/30: 100%|██████████| 391/391 [00:13<00:00, 28.67it/s]\n"
          ]
        },
        {
          "output_type": "stream",
          "name": "stdout",
          "text": [
            "Epoch [3/30] Train Loss: 26.6091\n",
            "Epoch [3/30] Test Loss: 24.5784\n",
            "✅ Best model saved at epoch 3 with test loss: 24.5784\n"
          ]
        },
        {
          "output_type": "stream",
          "name": "stderr",
          "text": [
            "Epoch 4/30: 100%|██████████| 391/391 [00:13<00:00, 29.66it/s]\n"
          ]
        },
        {
          "output_type": "stream",
          "name": "stdout",
          "text": [
            "Epoch [4/30] Train Loss: 23.1788\n",
            "Epoch [4/30] Test Loss: 21.6748\n",
            "✅ Best model saved at epoch 4 with test loss: 21.6748\n"
          ]
        },
        {
          "output_type": "stream",
          "name": "stderr",
          "text": [
            "Epoch 5/30: 100%|██████████| 391/391 [00:13<00:00, 29.98it/s]\n"
          ]
        },
        {
          "output_type": "stream",
          "name": "stdout",
          "text": [
            "Epoch [5/30] Train Loss: 20.9219\n",
            "Epoch [5/30] Test Loss: 19.9641\n",
            "✅ Best model saved at epoch 5 with test loss: 19.9641\n"
          ]
        },
        {
          "output_type": "stream",
          "name": "stderr",
          "text": [
            "Epoch 6/30: 100%|██████████| 391/391 [00:12<00:00, 30.29it/s]\n"
          ]
        },
        {
          "output_type": "stream",
          "name": "stdout",
          "text": [
            "Epoch [6/30] Train Loss: 19.6083\n",
            "Epoch [6/30] Test Loss: 19.1898\n",
            "✅ Best model saved at epoch 6 with test loss: 19.1898\n"
          ]
        },
        {
          "output_type": "stream",
          "name": "stderr",
          "text": [
            "Epoch 7/30: 100%|██████████| 391/391 [00:12<00:00, 30.27it/s]\n"
          ]
        },
        {
          "output_type": "stream",
          "name": "stdout",
          "text": [
            "Epoch [7/30] Train Loss: 18.8816\n",
            "Epoch [7/30] Test Loss: 18.7618\n",
            "✅ Best model saved at epoch 7 with test loss: 18.7618\n"
          ]
        },
        {
          "output_type": "stream",
          "name": "stderr",
          "text": [
            "Epoch 8/30: 100%|██████████| 391/391 [00:12<00:00, 30.19it/s]\n"
          ]
        },
        {
          "output_type": "stream",
          "name": "stdout",
          "text": [
            "Epoch [8/30] Train Loss: 18.2424\n",
            "Epoch [8/30] Test Loss: 18.0934\n",
            "✅ Best model saved at epoch 8 with test loss: 18.0934\n"
          ]
        },
        {
          "output_type": "stream",
          "name": "stderr",
          "text": [
            "Epoch 9/30: 100%|██████████| 391/391 [00:13<00:00, 29.36it/s]\n"
          ]
        },
        {
          "output_type": "stream",
          "name": "stdout",
          "text": [
            "Epoch [9/30] Train Loss: 17.9681\n",
            "Epoch [9/30] Test Loss: 17.9608\n",
            "✅ Best model saved at epoch 9 with test loss: 17.9608\n"
          ]
        },
        {
          "output_type": "stream",
          "name": "stderr",
          "text": [
            "Epoch 10/30: 100%|██████████| 391/391 [00:12<00:00, 30.19it/s]\n"
          ]
        },
        {
          "output_type": "stream",
          "name": "stdout",
          "text": [
            "Epoch [10/30] Train Loss: 17.7774\n",
            "Epoch [10/30] Test Loss: 17.8964\n",
            "✅ Best model saved at epoch 10 with test loss: 17.8964\n"
          ]
        },
        {
          "output_type": "stream",
          "name": "stderr",
          "text": [
            "Epoch 11/30: 100%|██████████| 391/391 [00:12<00:00, 30.08it/s]\n"
          ]
        },
        {
          "output_type": "stream",
          "name": "stdout",
          "text": [
            "Epoch [11/30] Train Loss: 17.5973\n",
            "Epoch [11/30] Test Loss: 17.5772\n",
            "✅ Best model saved at epoch 11 with test loss: 17.5772\n"
          ]
        },
        {
          "output_type": "stream",
          "name": "stderr",
          "text": [
            "Epoch 12/30: 100%|██████████| 391/391 [00:12<00:00, 30.12it/s]\n"
          ]
        },
        {
          "output_type": "stream",
          "name": "stdout",
          "text": [
            "Epoch [12/30] Train Loss: 17.4992\n",
            "Epoch [12/30] Test Loss: 17.5114\n",
            "✅ Best model saved at epoch 12 with test loss: 17.5114\n"
          ]
        },
        {
          "output_type": "stream",
          "name": "stderr",
          "text": [
            "Epoch 13/30: 100%|██████████| 391/391 [00:13<00:00, 30.01it/s]\n"
          ]
        },
        {
          "output_type": "stream",
          "name": "stdout",
          "text": [
            "Epoch [13/30] Train Loss: 17.3997\n",
            "Epoch [13/30] Test Loss: 17.4433\n",
            "✅ Best model saved at epoch 13 with test loss: 17.4433\n"
          ]
        },
        {
          "output_type": "stream",
          "name": "stderr",
          "text": [
            "Epoch 14/30: 100%|██████████| 391/391 [00:13<00:00, 29.88it/s]\n"
          ]
        },
        {
          "output_type": "stream",
          "name": "stdout",
          "text": [
            "Epoch [14/30] Train Loss: 17.2751\n",
            "Epoch [14/30] Test Loss: 17.6420\n"
          ]
        },
        {
          "output_type": "stream",
          "name": "stderr",
          "text": [
            "Epoch 15/30: 100%|██████████| 391/391 [00:12<00:00, 30.09it/s]\n"
          ]
        },
        {
          "output_type": "stream",
          "name": "stdout",
          "text": [
            "Epoch [15/30] Train Loss: 17.2344\n",
            "Epoch [15/30] Test Loss: 18.4210\n"
          ]
        },
        {
          "output_type": "stream",
          "name": "stderr",
          "text": [
            "Epoch 16/30: 100%|██████████| 391/391 [00:12<00:00, 30.14it/s]\n"
          ]
        },
        {
          "output_type": "stream",
          "name": "stdout",
          "text": [
            "Epoch [16/30] Train Loss: 17.1376\n",
            "Epoch [16/30] Test Loss: 17.2100\n",
            "✅ Best model saved at epoch 16 with test loss: 17.2100\n"
          ]
        },
        {
          "output_type": "stream",
          "name": "stderr",
          "text": [
            "Epoch 17/30: 100%|██████████| 391/391 [00:13<00:00, 30.07it/s]\n"
          ]
        },
        {
          "output_type": "stream",
          "name": "stdout",
          "text": [
            "Epoch [17/30] Train Loss: 17.0165\n",
            "Epoch [17/30] Test Loss: 17.1171\n",
            "✅ Best model saved at epoch 17 with test loss: 17.1171\n"
          ]
        },
        {
          "output_type": "stream",
          "name": "stderr",
          "text": [
            "Epoch 18/30: 100%|██████████| 391/391 [00:13<00:00, 29.96it/s]\n"
          ]
        },
        {
          "output_type": "stream",
          "name": "stdout",
          "text": [
            "Epoch [18/30] Train Loss: 16.9516\n",
            "Epoch [18/30] Test Loss: 17.1318\n"
          ]
        },
        {
          "output_type": "stream",
          "name": "stderr",
          "text": [
            "Epoch 19/30: 100%|██████████| 391/391 [00:13<00:00, 29.78it/s]\n"
          ]
        },
        {
          "output_type": "stream",
          "name": "stdout",
          "text": [
            "Epoch [19/30] Train Loss: 16.8489\n",
            "Epoch [19/30] Test Loss: 17.1987\n"
          ]
        },
        {
          "output_type": "stream",
          "name": "stderr",
          "text": [
            "Epoch 20/30: 100%|██████████| 391/391 [00:12<00:00, 30.12it/s]\n"
          ]
        },
        {
          "output_type": "stream",
          "name": "stdout",
          "text": [
            "Epoch [20/30] Train Loss: 16.8513\n",
            "Epoch [20/30] Test Loss: 17.7221\n"
          ]
        },
        {
          "output_type": "stream",
          "name": "stderr",
          "text": [
            "Epoch 21/30: 100%|██████████| 391/391 [00:12<00:00, 30.11it/s]\n"
          ]
        },
        {
          "output_type": "stream",
          "name": "stdout",
          "text": [
            "Epoch [21/30] Train Loss: 16.7491\n",
            "Epoch [21/30] Test Loss: 17.0753\n",
            "✅ Best model saved at epoch 21 with test loss: 17.0753\n"
          ]
        },
        {
          "output_type": "stream",
          "name": "stderr",
          "text": [
            "Epoch 22/30: 100%|██████████| 391/391 [00:12<00:00, 30.28it/s]\n"
          ]
        },
        {
          "output_type": "stream",
          "name": "stdout",
          "text": [
            "Epoch [22/30] Train Loss: 16.6901\n",
            "Epoch [22/30] Test Loss: 17.1230\n"
          ]
        },
        {
          "output_type": "stream",
          "name": "stderr",
          "text": [
            "Epoch 23/30: 100%|██████████| 391/391 [00:12<00:00, 30.18it/s]\n"
          ]
        },
        {
          "output_type": "stream",
          "name": "stdout",
          "text": [
            "Epoch [23/30] Train Loss: 16.5925\n",
            "Epoch [23/30] Test Loss: 16.9210\n",
            "✅ Best model saved at epoch 23 with test loss: 16.9210\n"
          ]
        },
        {
          "output_type": "stream",
          "name": "stderr",
          "text": [
            "Epoch 24/30: 100%|██████████| 391/391 [00:13<00:00, 29.85it/s]\n"
          ]
        },
        {
          "output_type": "stream",
          "name": "stdout",
          "text": [
            "Epoch [24/30] Train Loss: 16.5702\n",
            "Epoch [24/30] Test Loss: 16.8721\n",
            "✅ Best model saved at epoch 24 with test loss: 16.8721\n"
          ]
        },
        {
          "output_type": "stream",
          "name": "stderr",
          "text": [
            "Epoch 25/30: 100%|██████████| 391/391 [00:12<00:00, 30.09it/s]\n"
          ]
        },
        {
          "output_type": "stream",
          "name": "stdout",
          "text": [
            "Epoch [25/30] Train Loss: 16.5625\n",
            "Epoch [25/30] Test Loss: 16.9146\n"
          ]
        },
        {
          "output_type": "stream",
          "name": "stderr",
          "text": [
            "Epoch 26/30: 100%|██████████| 391/391 [00:12<00:00, 30.14it/s]\n"
          ]
        },
        {
          "output_type": "stream",
          "name": "stdout",
          "text": [
            "Epoch [26/30] Train Loss: 16.4896\n",
            "Epoch [26/30] Test Loss: 16.9617\n"
          ]
        },
        {
          "output_type": "stream",
          "name": "stderr",
          "text": [
            "Epoch 27/30: 100%|██████████| 391/391 [00:13<00:00, 29.98it/s]\n"
          ]
        },
        {
          "output_type": "stream",
          "name": "stdout",
          "text": [
            "Epoch [27/30] Train Loss: 16.4944\n",
            "Epoch [27/30] Test Loss: 17.2251\n"
          ]
        },
        {
          "output_type": "stream",
          "name": "stderr",
          "text": [
            "Epoch 28/30: 100%|██████████| 391/391 [00:13<00:00, 29.38it/s]\n"
          ]
        },
        {
          "output_type": "stream",
          "name": "stdout",
          "text": [
            "Epoch [28/30] Train Loss: 16.4327\n",
            "Epoch [28/30] Test Loss: 16.9603\n"
          ]
        },
        {
          "output_type": "stream",
          "name": "stderr",
          "text": [
            "Epoch 29/30: 100%|██████████| 391/391 [00:13<00:00, 29.64it/s]\n"
          ]
        },
        {
          "output_type": "stream",
          "name": "stdout",
          "text": [
            "Epoch [29/30] Train Loss: 16.3588\n",
            "Epoch [29/30] Test Loss: 16.9058\n"
          ]
        },
        {
          "output_type": "stream",
          "name": "stderr",
          "text": [
            "Epoch 30/30: 100%|██████████| 391/391 [00:13<00:00, 29.72it/s]\n"
          ]
        },
        {
          "output_type": "stream",
          "name": "stdout",
          "text": [
            "Epoch [30/30] Train Loss: 16.3472\n",
            "Epoch [30/30] Test Loss: 17.0005\n"
          ]
        }
      ]
    },
    {
      "cell_type": "code",
      "source": [
        "model.eval()\n",
        "with torch.no_grad():\n",
        "    x, _ = next(iter(test_loader))\n",
        "    x = x.to(device)[:8]\n",
        "    recon, _, _ = model(x)\n",
        "\n",
        "    plt.figure(figsize=(16, 4))\n",
        "    for i in range(8):\n",
        "        plt.subplot(2, 8, i+1)\n",
        "        plt.imshow(x[i].permute(1, 2, 0).cpu())\n",
        "        plt.axis('off')\n",
        "\n",
        "        plt.subplot(2, 8, i+9)\n",
        "        plt.imshow(recon[i].permute(1, 2, 0).cpu())\n",
        "        plt.axis('off')\n",
        "\n",
        "    plt.suptitle(\"Top: Original | Bottom: Reconstruction\")\n",
        "    plt.show()"
      ],
      "metadata": {
        "colab": {
          "base_uri": "https://localhost:8080/",
          "height": 380
        },
        "id": "Yu5f0LNQ4Ils",
        "outputId": "84179a81-0151-4098-ffbb-60c042dc5d5a"
      },
      "execution_count": null,
      "outputs": [
        {
          "output_type": "display_data",
          "data": {
            "text/plain": [
              "<Figure size 1600x400 with 16 Axes>"
            ],
            "image/png": "[encoded data removed]"
          },
          "metadata": {}
        }
      ]
    },
    {
      "cell_type": "code",
      "source": [
        "import torch\n",
        "import torch.nn as nn\n",
        "import torch.nn.functional as F\n",
        "import torchvision\n",
        "import torchvision.transforms as transforms\n",
        "import matplotlib.pyplot as plt\n",
        "from torch.utils.data import DataLoader\n",
        "import numpy as np\n",
        "from tqdm import tqdm\n",
        "\n",
        "# Device\n",
        "device = torch.device('cuda' if torch.cuda.is_available() else 'cpu')\n",
        "\n",
        "# Parameters\n",
        "latent_dim = 100\n",
        "learning_rate = 1e-3\n",
        "batch_size = 128\n",
        "epochs = 20\n",
        "kl_weight = 0.000075\n",
        "\n",
        "# CIFAR-10 loader\n",
        "transform = transforms.ToTensor()\n",
        "train_set = torchvision.datasets.CIFAR10(root='./data', train=True, download=True, transform=transform)\n",
        "train_loader = DataLoader(train_set, batch_size=batch_size, shuffle=True)\n",
        "\n",
        "# === VAE Model ===\n",
        "class Reshape(nn.Module):\n",
        "    def __init__(self, *args):\n",
        "        super(Reshape, self).__init__()\n",
        "        self.shape = args\n",
        "    def forward(self, x):\n",
        "        return x.view(x.size(0), *self.shape)\n",
        "\n",
        "class Trim(nn.Module):\n",
        "    def __init__(self):\n",
        "        super(Trim, self).__init__()\n",
        "    def forward(self, x):\n",
        "        return x[:, :, :32, :32]\n",
        "\n",
        "class VAE(nn.Module):\n",
        "    def __init__(self):\n",
        "        super(VAE, self).__init__()\n",
        "        self.conv1 = nn.Conv2d(3, 32, kernel_size=3, stride=2, padding=1)\n",
        "        self.conv2 = nn.Conv2d(32, 64, kernel_size=3, stride=2, padding=1)\n",
        "        self.conv3 = nn.Conv2d(64, 128, kernel_size=3, stride=2, padding=1)\n",
        "        self.flatten = nn.Flatten()\n",
        "\n",
        "        self.fc_mu = nn.Linear(128 * 4 * 4, latent_dim)\n",
        "        self.fc_logvar = nn.Linear(128 * 4 * 4, latent_dim)\n",
        "\n",
        "        self.fc_decode = nn.Linear(latent_dim, 128 * 4 * 4)\n",
        "        self.reshape = Reshape(128, 4, 4)\n",
        "\n",
        "        self.deconv1 = nn.ConvTranspose2d(128, 64, 3, stride=2)\n",
        "        self.deconv2 = nn.ConvTranspose2d(64, 32, 3, stride=2, padding=1)\n",
        "        self.deconv3 = nn.ConvTranspose2d(32, 3, 3, stride=2, padding=1)\n",
        "        self.trim = Trim()\n",
        "\n",
        "    def encode(self, x):\n",
        "        x = F.silu(self.conv1(x))\n",
        "        x = F.silu(self.conv2(x))\n",
        "        x = F.silu(self.conv3(x))\n",
        "        x = self.flatten(x)\n",
        "        mu = self.fc_mu(x)\n",
        "        logvar = self.fc_logvar(x)\n",
        "        return mu, logvar\n",
        "\n",
        "    def reparameterize(self, mu, logvar):\n",
        "        eps = torch.randn_like(mu)\n",
        "        return mu + eps * torch.exp(0.5 * logvar)\n",
        "\n",
        "    def decode(self, z):\n",
        "        x = self.fc_decode(z)\n",
        "        x = self.reshape(x)\n",
        "        x = F.silu(self.deconv1(x))\n",
        "        x = F.silu(self.deconv2(x))\n",
        "        x = F.silu(self.deconv3(x))\n",
        "        x = self.trim(x)\n",
        "        return torch.sigmoid(x)\n",
        "\n",
        "    def forward(self, x):\n",
        "        mu, logvar = self.encode(x)\n",
        "        z = self.reparameterize(mu, logvar)\n",
        "        recon = self.decode(z)\n",
        "        return recon, mu, logvar\n",
        "\n",
        "model = VAE().to(device)\n",
        "optimizer = torch.optim.Adam(model.parameters(), lr=learning_rate)\n",
        "criterion = nn.MSELoss(reduction='sum')\n",
        "\n",
        "# === VAE Loss ===\n",
        "def vae_loss(recon_x, x, mu, logvar):\n",
        "    recon_loss = criterion(recon_x, x)\n",
        "    kl_loss = torch.sum(-0.5 * (1 + logvar - mu.pow(2) - logvar.exp()))\n",
        "    total_loss = recon_loss + kl_weight * kl_loss\n",
        "    return total_loss, recon_loss, kl_loss\n",
        "\n",
        "# === Training ===\n",
        "for epoch in range(epochs):\n",
        "    model.train()\n",
        "    total_loss, recon_sum, kl_sum = 0.0, 0.0, 0.0\n",
        "    for x, _ in tqdm(train_loader, desc=f\"Epoch {epoch+1}/{epochs}\"):\n",
        "        x = x.to(device)\n",
        "        optimizer.zero_grad()\n",
        "        recon_x, mu, logvar = model(x)\n",
        "        loss, recon_loss, kl_loss = vae_loss(recon_x, x, mu, logvar)\n",
        "        loss.backward()\n",
        "        optimizer.step()\n",
        "\n",
        "        total_loss += loss.item()\n",
        "        recon_sum += recon_loss.item()\n",
        "        kl_sum += kl_loss.item()\n",
        "\n",
        "    print(f\"Epoch {epoch+1}: Total={total_loss:.2f}, Recon={recon_sum:.2f}, KL={kl_sum:.2f}\")\n",
        "\n",
        "# === Visualize Reconstruction ===\n",
        "X_vis = next(iter(train_loader))[0][:6].to(device)\n",
        "with torch.no_grad():\n",
        "    recon_vis, _, _ = model(X_vis)\n",
        "\n",
        "fig, axs = plt.subplots(2, 6, figsize=(15, 5))\n",
        "for i in range(6):\n",
        "    axs[0][i].imshow(X_vis[i].permute(1, 2, 0).cpu())\n",
        "    axs[0][i].set_title(\"Original\")\n",
        "    axs[0][i].axis(\"off\")\n",
        "    axs[1][i].imshow(recon_vis[i].permute(1, 2, 0).cpu())\n",
        "    axs[1][i].set_title(\"Reconstructed\")\n",
        "    axs[1][i].axis(\"off\")\n",
        "\n",
        "plt.suptitle(\"Top: Original | Bottom: Reconstruction\", fontsize=14)\n",
        "plt.tight_layout()\n",
        "plt.show()\n"
      ],
      "metadata": {
        "colab": {
          "base_uri": "https://localhost:8080/",
          "height": 1000
        },
        "id": "9mwFn71GJZm2",
        "outputId": "7e18c99a-efd4-496d-fd3d-2cad8c10822c"
      },
      "execution_count": null,
      "outputs": [
        {
          "output_type": "stream",
          "name": "stderr",
          "text": [
            "100%|██████████| 170M/170M [00:03<00:00, 43.7MB/s]\n",
            "Epoch 1/20: 100%|██████████| 391/391 [00:11<00:00, 34.63it/s]\n"
          ]
        },
        {
          "output_type": "stream",
          "name": "stdout",
          "text": [
            "Epoch 1: Total=5274906.47, Recon=5273223.61, KL=22438069.07\n"
          ]
        },
        {
          "output_type": "stream",
          "name": "stderr",
          "text": [
            "Epoch 2/20: 100%|██████████| 391/391 [00:09<00:00, 41.61it/s]\n"
          ]
        },
        {
          "output_type": "stream",
          "name": "stdout",
          "text": [
            "Epoch 2: Total=4203206.42, Recon=4201354.85, KL=24687697.29\n"
          ]
        },
        {
          "output_type": "stream",
          "name": "stderr",
          "text": [
            "Epoch 3/20: 100%|██████████| 391/391 [00:09<00:00, 39.35it/s]\n"
          ]
        },
        {
          "output_type": "stream",
          "name": "stdout",
          "text": [
            "Epoch 3: Total=4023071.27, Recon=4021234.08, KL=24495935.40\n"
          ]
        },
        {
          "output_type": "stream",
          "name": "stderr",
          "text": [
            "Epoch 4/20: 100%|██████████| 391/391 [00:10<00:00, 36.98it/s]\n"
          ]
        },
        {
          "output_type": "stream",
          "name": "stdout",
          "text": [
            "Epoch 4: Total=3914220.09, Recon=3912376.88, KL=24576303.74\n"
          ]
        },
        {
          "output_type": "stream",
          "name": "stderr",
          "text": [
            "Epoch 5/20: 100%|██████████| 391/391 [00:09<00:00, 39.52it/s]\n"
          ]
        },
        {
          "output_type": "stream",
          "name": "stdout",
          "text": [
            "Epoch 5: Total=3834449.36, Recon=3832601.03, KL=24644403.77\n"
          ]
        },
        {
          "output_type": "stream",
          "name": "stderr",
          "text": [
            "Epoch 6/20: 100%|██████████| 391/391 [00:09<00:00, 39.54it/s]\n"
          ]
        },
        {
          "output_type": "stream",
          "name": "stdout",
          "text": [
            "Epoch 6: Total=3798413.81, Recon=3796585.59, KL=24376328.54\n"
          ]
        },
        {
          "output_type": "stream",
          "name": "stderr",
          "text": [
            "Epoch 7/20: 100%|██████████| 391/391 [00:09<00:00, 40.40it/s]\n"
          ]
        },
        {
          "output_type": "stream",
          "name": "stdout",
          "text": [
            "Epoch 7: Total=3780648.88, Recon=3778836.07, KL=24170798.78\n"
          ]
        },
        {
          "output_type": "stream",
          "name": "stderr",
          "text": [
            "Epoch 8/20: 100%|██████████| 391/391 [00:09<00:00, 40.91it/s]\n"
          ]
        },
        {
          "output_type": "stream",
          "name": "stdout",
          "text": [
            "Epoch 8: Total=3770061.95, Recon=3768261.85, KL=24001302.07\n"
          ]
        },
        {
          "output_type": "stream",
          "name": "stderr",
          "text": [
            "Epoch 9/20: 100%|██████████| 391/391 [00:09<00:00, 39.67it/s]\n"
          ]
        },
        {
          "output_type": "stream",
          "name": "stdout",
          "text": [
            "Epoch 9: Total=3759498.59, Recon=3757701.70, KL=23958447.43\n"
          ]
        },
        {
          "output_type": "stream",
          "name": "stderr",
          "text": [
            "Epoch 10/20: 100%|██████████| 391/391 [00:09<00:00, 39.67it/s]\n"
          ]
        },
        {
          "output_type": "stream",
          "name": "stdout",
          "text": [
            "Epoch 10: Total=3751496.66, Recon=3749709.55, KL=23828313.89\n"
          ]
        },
        {
          "output_type": "stream",
          "name": "stderr",
          "text": [
            "Epoch 11/20: 100%|██████████| 391/391 [00:09<00:00, 39.33it/s]\n"
          ]
        },
        {
          "output_type": "stream",
          "name": "stdout",
          "text": [
            "Epoch 11: Total=3743579.18, Recon=3741794.43, KL=23796757.95\n"
          ]
        },
        {
          "output_type": "stream",
          "name": "stderr",
          "text": [
            "Epoch 12/20: 100%|██████████| 391/391 [00:09<00:00, 39.56it/s]\n"
          ]
        },
        {
          "output_type": "stream",
          "name": "stdout",
          "text": [
            "Epoch 12: Total=3737650.70, Recon=3735872.61, KL=23707849.31\n"
          ]
        },
        {
          "output_type": "stream",
          "name": "stderr",
          "text": [
            "Epoch 13/20: 100%|██████████| 391/391 [00:09<00:00, 41.51it/s]\n"
          ]
        },
        {
          "output_type": "stream",
          "name": "stdout",
          "text": [
            "Epoch 13: Total=3733403.98, Recon=3731625.82, KL=23708612.40\n"
          ]
        },
        {
          "output_type": "stream",
          "name": "stderr",
          "text": [
            "Epoch 14/20: 100%|██████████| 391/391 [00:09<00:00, 39.46it/s]\n"
          ]
        },
        {
          "output_type": "stream",
          "name": "stdout",
          "text": [
            "Epoch 14: Total=3728756.53, Recon=3726977.77, KL=23716788.74\n"
          ]
        },
        {
          "output_type": "stream",
          "name": "stderr",
          "text": [
            "Epoch 15/20: 100%|██████████| 391/391 [00:09<00:00, 39.83it/s]\n"
          ]
        },
        {
          "output_type": "stream",
          "name": "stdout",
          "text": [
            "Epoch 15: Total=3725034.48, Recon=3723255.86, KL=23714797.91\n"
          ]
        },
        {
          "output_type": "stream",
          "name": "stderr",
          "text": [
            "Epoch 16/20: 100%|██████████| 391/391 [00:09<00:00, 39.38it/s]\n"
          ]
        },
        {
          "output_type": "stream",
          "name": "stdout",
          "text": [
            "Epoch 16: Total=3721021.37, Recon=3719246.38, KL=23666494.43\n"
          ]
        },
        {
          "output_type": "stream",
          "name": "stderr",
          "text": [
            "Epoch 17/20: 100%|██████████| 391/391 [00:10<00:00, 38.23it/s]\n"
          ]
        },
        {
          "output_type": "stream",
          "name": "stdout",
          "text": [
            "Epoch 17: Total=3717802.49, Recon=3716024.78, KL=23702855.98\n"
          ]
        },
        {
          "output_type": "stream",
          "name": "stderr",
          "text": [
            "Epoch 18/20: 100%|██████████| 391/391 [00:09<00:00, 40.50it/s]\n"
          ]
        },
        {
          "output_type": "stream",
          "name": "stdout",
          "text": [
            "Epoch 18: Total=3715478.64, Recon=3713699.99, KL=23715247.66\n"
          ]
        },
        {
          "output_type": "stream",
          "name": "stderr",
          "text": [
            "Epoch 19/20: 100%|██████████| 391/391 [00:09<00:00, 40.11it/s]\n"
          ]
        },
        {
          "output_type": "stream",
          "name": "stdout",
          "text": [
            "Epoch 19: Total=3712068.10, Recon=3710292.17, KL=23679109.08\n"
          ]
        },
        {
          "output_type": "stream",
          "name": "stderr",
          "text": [
            "Epoch 20/20: 100%|██████████| 391/391 [00:10<00:00, 38.81it/s]\n"
          ]
        },
        {
          "output_type": "stream",
          "name": "stdout",
          "text": [
            "Epoch 20: Total=3709730.31, Recon=3707951.08, KL=23723031.64\n"
          ]
        },
        {
          "output_type": "display_data",
          "data": {
            "text/plain": [
              "<Figure size 1500x500 with 12 Axes>"
            ],
            "image/png": "[encoded data removed]"
          },
          "metadata": {}
        }
      ]
    }
  ]
}