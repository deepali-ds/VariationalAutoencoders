{
  "cells": [
    {
      "cell_type": "code",
      "execution_count": null,
      "metadata": {
        "id": "eeRNN86WSgbi",
        "outputId": "12e961aa-f842-4216-cf96-20107aa8db3a"
      },
      "outputs": [
        {
          "name": "stderr",
          "output_type": "stream",
          "text": [
            "/home/hesmeraldo/miniconda3/envs/rpstn/lib/python3.12/site-packages/tqdm/auto.py:21: TqdmWarning: IProgress not found. Please update jupyter and ipywidgets. See https://ipywidgets.readthedocs.io/en/stable/user_install.html\n",
            "  from .autonotebook import tqdm as notebook_tqdm\n"
          ]
        },
        {
          "name": "stdout",
          "output_type": "stream",
          "text": [
            "Downloading https://www.cs.toronto.edu/~kriz/cifar-10-python.tar.gz to ./data/cifar-10-python.tar.gz\n"
          ]
        },
        {
          "name": "stderr",
          "output_type": "stream",
          "text": [
            "100%|████████████████████████████████████████████████████████████| 170498071/170498071 [00:09<00:00, 17447307.32it/s]\n"
          ]
        },
        {
          "name": "stdout",
          "output_type": "stream",
          "text": [
            "Extracting ./data/cifar-10-python.tar.gz to ./data\n",
            "Files already downloaded and verified\n"
          ]
        }
      ],
      "source": [
        "import torch\n",
        "import torch.nn as nn\n",
        "import torch.optim as optim\n",
        "import torchvision\n",
        "import torchvision.transforms as transforms\n",
        "from torch.utils.data import random_split, DataLoader\n",
        "from tqdm import tqdm\n",
        "import timm\n",
        "import matplotlib.pyplot as plt\n",
        "import numpy as np\n",
        "\n",
        "# === Config ===\n",
        "batch_size = 128\n",
        "# num_epochs = 200\n",
        "device = torch.device(\"cuda\" if torch.cuda.is_available() else \"cpu\")\n",
        "print(device)\n",
        "\n",
        "# === Transforms ===\n",
        "transform_train = transforms.Compose([\n",
        "    transforms.RandomCrop(32, padding=4),\n",
        "    transforms.RandomHorizontalFlip(),\n",
        "    transforms.ToTensor(),\n",
        "    transforms.Normalize((0.4914, 0.4822, 0.4465),\n",
        "                         (0.2023, 0.1994, 0.2010)),\n",
        "])\n",
        "transform_test = transforms.Compose([\n",
        "    transforms.ToTensor(),\n",
        "    transforms.Normalize((0.4914, 0.4822, 0.4465),\n",
        "                         (0.2023, 0.1994, 0.2010)),\n",
        "])\n",
        "\n",
        "# === Load and Split Data ===\n",
        "full_train = torchvision.datasets.CIFAR10(root='./data', train=True,\n",
        "                                          download=True, transform=transform_train)\n",
        "train_size = int(0.9 * len(full_train))\n",
        "val_size = len(full_train) - train_size\n",
        "trainset, valset = random_split(full_train, [train_size, val_size])\n",
        "\n",
        "testset = torchvision.datasets.CIFAR10(root='./data', train=False,\n",
        "                                       download=True, transform=transform_test)\n",
        "\n",
        "trainloader = DataLoader(trainset, batch_size=batch_size, shuffle=True, num_workers=4)\n",
        "valloader = DataLoader(valset, batch_size=batch_size, shuffle=False, num_workers=4)\n",
        "testloader = DataLoader(testset, batch_size=100, shuffle=False, num_workers=4)\n",
        "\n",
        "# === Model ===\n",
        "model = timm.create_model(\"resnet50\", pretrained=False, num_classes=10)\n",
        "model.to(device)\n",
        "\n",
        "# === Loss and Optimizer ===\n",
        "criterion = nn.CrossEntropyLoss()\n",
        "optimizer = optim.SGD(model.parameters(), lr=0.1, momentum=0.9, weight_decay=5e-4)\n",
        "scheduler = optim.lr_scheduler.CosineAnnealingLR(optimizer, T_max=num_epochs)\n",
        "\n",
        "# === Metrics Storage ===\n",
        "train_losses, val_losses = [], []\n",
        "train_accuracies, val_accuracies, test_accuracies = [], [], []\n",
        "\n",
        "# === Training ===\n",
        "def train(epoch):\n",
        "    model.train()\n",
        "    total_loss = 0\n",
        "    correct = 0\n",
        "    total = 0\n",
        "    loop = tqdm(trainloader, desc=f\"Epoch [{epoch}]\")\n",
        "\n",
        "    for inputs, targets in loop:\n",
        "        inputs, targets = inputs.to(device), targets.to(device)\n",
        "        optimizer.zero_grad()\n",
        "        outputs = model(inputs)\n",
        "        loss = criterion(outputs, targets)\n",
        "        loss.backward()\n",
        "        optimizer.step()\n",
        "\n",
        "        total_loss += loss.item() * inputs.size(0)\n",
        "        _, predicted = outputs.max(1)\n",
        "        total += targets.size(0)\n",
        "        correct += predicted.eq(targets).sum().item()\n",
        "\n",
        "        loop.set_postfix(loss=total_loss / total, acc=100. * correct / total)\n",
        "\n",
        "    avg_loss = total_loss / total\n",
        "    acc = 100. * correct / total\n",
        "    train_losses.append(avg_loss)\n",
        "    train_accuracies.append(acc)\n",
        "\n",
        "# === Evaluation ===\n",
        "def evaluate(dataloader, name=\"Val\"):\n",
        "    model.eval()\n",
        "    total_loss = 0\n",
        "    correct = 0\n",
        "    total = 0\n",
        "\n",
        "    with torch.no_grad():\n",
        "        for inputs, targets in dataloader:\n",
        "            inputs, targets = inputs.to(device), targets.to(device)\n",
        "            outputs = model(inputs)\n",
        "            loss = criterion(outputs, targets)\n",
        "\n",
        "            total_loss += loss.item() * inputs.size(0)\n",
        "            _, predicted = outputs.max(1)\n",
        "            total += targets.size(0)\n",
        "            correct += predicted.eq(targets).sum().item()\n",
        "\n",
        "    avg_loss = total_loss / total\n",
        "    acc = 100. * correct / total\n",
        "\n",
        "    if name == \"Val\":\n",
        "        val_losses.append(avg_loss)\n",
        "        val_accuracies.append(acc)\n",
        "    elif name == \"Test\":\n",
        "        test_accuracies.append(acc)\n",
        "\n",
        "    print(f\"{name} Accuracy: {acc:.2f}%, Loss: {avg_loss:.4f}\")\n",
        "    return acc"
      ]
    },
    {
      "cell_type": "code",
      "execution_count": null,
      "metadata": {
        "id": "UG5zj8iHSgbj",
        "outputId": "ce862be0-908c-4006-cdc4-fea3619511d7"
      },
      "outputs": [
        {
          "name": "stderr",
          "output_type": "stream",
          "text": [
            "Epoch [0]: 100%|██████████████████████████████████████████████| 352/352 [00:26<00:00, 13.08it/s, acc=25.3, loss=2.49]\n"
          ]
        },
        {
          "name": "stdout",
          "output_type": "stream",
          "text": [
            "Val Accuracy: 37.74%, Loss: 1.6497\n"
          ]
        },
        {
          "name": "stderr",
          "output_type": "stream",
          "text": [
            "Epoch [1]: 100%|██████████████████████████████████████████████| 352/352 [00:12<00:00, 29.23it/s, acc=42.5, loss=1.55]\n"
          ]
        },
        {
          "name": "stdout",
          "output_type": "stream",
          "text": [
            "Val Accuracy: 47.98%, Loss: 1.4173\n"
          ]
        },
        {
          "name": "stderr",
          "output_type": "stream",
          "text": [
            "Epoch [2]: 100%|████████████████████████████████████████████████| 352/352 [00:11<00:00, 30.00it/s, acc=51, loss=1.35]\n"
          ]
        },
        {
          "name": "stdout",
          "output_type": "stream",
          "text": [
            "Val Accuracy: 52.44%, Loss: 1.3059\n"
          ]
        },
        {
          "name": "stderr",
          "output_type": "stream",
          "text": [
            "Epoch [3]: 100%|████████████████████████████████████████████████| 352/352 [00:11<00:00, 29.99it/s, acc=57, loss=1.21]\n"
          ]
        },
        {
          "name": "stdout",
          "output_type": "stream",
          "text": [
            "Val Accuracy: 59.30%, Loss: 1.1544\n"
          ]
        },
        {
          "name": "stderr",
          "output_type": "stream",
          "text": [
            "Epoch [4]: 100%|██████████████████████████████████████████████| 352/352 [00:11<00:00, 29.73it/s, acc=60.8, loss=1.11]\n"
          ]
        },
        {
          "name": "stdout",
          "output_type": "stream",
          "text": [
            "Val Accuracy: 61.06%, Loss: 1.1178\n"
          ]
        },
        {
          "name": "stderr",
          "output_type": "stream",
          "text": [
            "Epoch [5]: 100%|██████████████████████████████████████████████| 352/352 [00:11<00:00, 29.92it/s, acc=64.1, loss=1.03]\n"
          ]
        },
        {
          "name": "stdout",
          "output_type": "stream",
          "text": [
            "Val Accuracy: 60.98%, Loss: 1.0826\n"
          ]
        },
        {
          "name": "stderr",
          "output_type": "stream",
          "text": [
            "Epoch [6]: 100%|█████████████████████████████████████████████| 352/352 [00:11<00:00, 30.81it/s, acc=66.4, loss=0.966]\n"
          ]
        },
        {
          "name": "stdout",
          "output_type": "stream",
          "text": [
            "Val Accuracy: 62.76%, Loss: 1.0849\n"
          ]
        },
        {
          "name": "stderr",
          "output_type": "stream",
          "text": [
            "Epoch [7]: 100%|█████████████████████████████████████████████| 352/352 [00:11<00:00, 30.41it/s, acc=68.1, loss=0.919]\n"
          ]
        },
        {
          "name": "stdout",
          "output_type": "stream",
          "text": [
            "Val Accuracy: 66.48%, Loss: 0.9830\n"
          ]
        },
        {
          "name": "stderr",
          "output_type": "stream",
          "text": [
            "Epoch [8]: 100%|█████████████████████████████████████████████| 352/352 [00:11<00:00, 29.92it/s, acc=69.2, loss=0.893]\n"
          ]
        },
        {
          "name": "stdout",
          "output_type": "stream",
          "text": [
            "Val Accuracy: 66.56%, Loss: 0.9704\n"
          ]
        },
        {
          "name": "stderr",
          "output_type": "stream",
          "text": [
            "Epoch [9]: 100%|█████████████████████████████████████████████| 352/352 [00:12<00:00, 28.97it/s, acc=70.2, loss=0.865]\n"
          ]
        },
        {
          "name": "stdout",
          "output_type": "stream",
          "text": [
            "Val Accuracy: 68.74%, Loss: 0.8899\n"
          ]
        },
        {
          "name": "stderr",
          "output_type": "stream",
          "text": [
            "Epoch [10]: 100%|████████████████████████████████████████████| 352/352 [00:11<00:00, 29.81it/s, acc=70.8, loss=0.847]\n"
          ]
        },
        {
          "name": "stdout",
          "output_type": "stream",
          "text": [
            "Val Accuracy: 59.40%, Loss: 1.2431\n"
          ]
        },
        {
          "name": "stderr",
          "output_type": "stream",
          "text": [
            "Epoch [11]: 100%|████████████████████████████████████████████| 352/352 [00:11<00:00, 31.14it/s, acc=71.5, loss=0.832]\n"
          ]
        },
        {
          "name": "stdout",
          "output_type": "stream",
          "text": [
            "Val Accuracy: 62.54%, Loss: 1.1036\n"
          ]
        },
        {
          "name": "stderr",
          "output_type": "stream",
          "text": [
            "Epoch [12]: 100%|██████████████████████████████████████████████| 352/352 [00:11<00:00, 30.59it/s, acc=72, loss=0.814]\n"
          ]
        },
        {
          "name": "stdout",
          "output_type": "stream",
          "text": [
            "Val Accuracy: 65.54%, Loss: 1.0251\n"
          ]
        },
        {
          "name": "stderr",
          "output_type": "stream",
          "text": [
            "Epoch [13]: 100%|████████████████████████████████████████████| 352/352 [00:11<00:00, 30.10it/s, acc=72.3, loss=0.807]\n"
          ]
        },
        {
          "name": "stdout",
          "output_type": "stream",
          "text": [
            "Val Accuracy: 66.36%, Loss: 0.9999\n"
          ]
        },
        {
          "name": "stderr",
          "output_type": "stream",
          "text": [
            "Epoch [14]: 100%|████████████████████████████████████████████| 352/352 [00:11<00:00, 30.00it/s, acc=73.1, loss=0.787]\n"
          ]
        },
        {
          "name": "stdout",
          "output_type": "stream",
          "text": [
            "Val Accuracy: 70.80%, Loss: 0.8597\n"
          ]
        },
        {
          "name": "stderr",
          "output_type": "stream",
          "text": [
            "Epoch [15]: 100%|████████████████████████████████████████████| 352/352 [00:11<00:00, 29.90it/s, acc=73.2, loss=0.788]\n"
          ]
        },
        {
          "name": "stdout",
          "output_type": "stream",
          "text": [
            "Val Accuracy: 69.42%, Loss: 0.8860\n"
          ]
        },
        {
          "name": "stderr",
          "output_type": "stream",
          "text": [
            "Epoch [16]: 100%|████████████████████████████████████████████| 352/352 [00:12<00:00, 28.56it/s, acc=73.8, loss=0.777]\n"
          ]
        },
        {
          "name": "stdout",
          "output_type": "stream",
          "text": [
            "Val Accuracy: 69.32%, Loss: 0.8834\n"
          ]
        },
        {
          "name": "stderr",
          "output_type": "stream",
          "text": [
            "Epoch [17]: 100%|████████████████████████████████████████████| 352/352 [00:11<00:00, 30.68it/s, acc=73.7, loss=0.769]\n"
          ]
        },
        {
          "name": "stdout",
          "output_type": "stream",
          "text": [
            "Val Accuracy: 70.08%, Loss: 0.8765\n"
          ]
        },
        {
          "name": "stderr",
          "output_type": "stream",
          "text": [
            "Epoch [18]: 100%|████████████████████████████████████████████| 352/352 [00:11<00:00, 29.41it/s, acc=73.9, loss=0.769]\n"
          ]
        },
        {
          "name": "stdout",
          "output_type": "stream",
          "text": [
            "Val Accuracy: 67.78%, Loss: 0.9562\n"
          ]
        },
        {
          "name": "stderr",
          "output_type": "stream",
          "text": [
            "Epoch [19]: 100%|████████████████████████████████████████████| 352/352 [00:12<00:00, 29.08it/s, acc=74.6, loss=0.749]\n"
          ]
        },
        {
          "name": "stdout",
          "output_type": "stream",
          "text": [
            "Val Accuracy: 70.80%, Loss: 0.8698\n"
          ]
        },
        {
          "name": "stderr",
          "output_type": "stream",
          "text": [
            "Epoch [20]: 100%|████████████████████████████████████████████| 352/352 [00:11<00:00, 30.93it/s, acc=74.6, loss=0.742]\n"
          ]
        },
        {
          "name": "stdout",
          "output_type": "stream",
          "text": [
            "Val Accuracy: 67.82%, Loss: 0.9737\n"
          ]
        },
        {
          "name": "stderr",
          "output_type": "stream",
          "text": [
            "Epoch [21]: 100%|████████████████████████████████████████████| 352/352 [00:12<00:00, 29.07it/s, acc=74.8, loss=0.737]\n"
          ]
        },
        {
          "name": "stdout",
          "output_type": "stream",
          "text": [
            "Val Accuracy: 69.06%, Loss: 0.9167\n"
          ]
        },
        {
          "name": "stderr",
          "output_type": "stream",
          "text": [
            "Epoch [22]: 100%|████████████████████████████████████████████| 352/352 [00:10<00:00, 33.35it/s, acc=74.6, loss=0.745]\n"
          ]
        },
        {
          "name": "stdout",
          "output_type": "stream",
          "text": [
            "Val Accuracy: 68.40%, Loss: 0.9570\n"
          ]
        },
        {
          "name": "stderr",
          "output_type": "stream",
          "text": [
            "Epoch [23]: 100%|████████████████████████████████████████████| 352/352 [00:11<00:00, 31.97it/s, acc=74.9, loss=0.732]\n"
          ]
        },
        {
          "name": "stdout",
          "output_type": "stream",
          "text": [
            "Val Accuracy: 66.78%, Loss: 0.9823\n"
          ]
        },
        {
          "name": "stderr",
          "output_type": "stream",
          "text": [
            "Epoch [24]: 100%|████████████████████████████████████████████| 352/352 [00:10<00:00, 32.06it/s, acc=75.3, loss=0.726]\n"
          ]
        },
        {
          "name": "stdout",
          "output_type": "stream",
          "text": [
            "Val Accuracy: 71.60%, Loss: 0.8502\n"
          ]
        },
        {
          "name": "stderr",
          "output_type": "stream",
          "text": [
            "Epoch [25]: 100%|████████████████████████████████████████████| 352/352 [00:11<00:00, 29.55it/s, acc=75.5, loss=0.719]\n"
          ]
        },
        {
          "name": "stdout",
          "output_type": "stream",
          "text": [
            "Val Accuracy: 71.10%, Loss: 0.8463\n"
          ]
        },
        {
          "name": "stderr",
          "output_type": "stream",
          "text": [
            "Epoch [26]: 100%|████████████████████████████████████████████| 352/352 [00:12<00:00, 29.23it/s, acc=75.7, loss=0.717]\n"
          ]
        },
        {
          "name": "stdout",
          "output_type": "stream",
          "text": [
            "Val Accuracy: 72.04%, Loss: 0.8216\n"
          ]
        },
        {
          "name": "stderr",
          "output_type": "stream",
          "text": [
            "Epoch [27]: 100%|████████████████████████████████████████████| 352/352 [00:12<00:00, 28.65it/s, acc=76.2, loss=0.705]\n"
          ]
        },
        {
          "name": "stdout",
          "output_type": "stream",
          "text": [
            "Val Accuracy: 71.58%, Loss: 0.8388\n"
          ]
        },
        {
          "name": "stderr",
          "output_type": "stream",
          "text": [
            "Epoch [28]: 100%|████████████████████████████████████████████| 352/352 [00:13<00:00, 26.94it/s, acc=76.2, loss=0.702]\n"
          ]
        },
        {
          "name": "stdout",
          "output_type": "stream",
          "text": [
            "Val Accuracy: 72.84%, Loss: 0.7925\n"
          ]
        },
        {
          "name": "stderr",
          "output_type": "stream",
          "text": [
            "Epoch [29]: 100%|████████████████████████████████████████████| 352/352 [00:13<00:00, 25.97it/s, acc=76.2, loss=0.701]\n"
          ]
        },
        {
          "name": "stdout",
          "output_type": "stream",
          "text": [
            "Val Accuracy: 69.82%, Loss: 0.9060\n"
          ]
        },
        {
          "name": "stderr",
          "output_type": "stream",
          "text": [
            "Epoch [30]: 100%|████████████████████████████████████████████| 352/352 [00:13<00:00, 25.28it/s, acc=76.3, loss=0.701]\n"
          ]
        },
        {
          "name": "stdout",
          "output_type": "stream",
          "text": [
            "Val Accuracy: 71.74%, Loss: 0.8485\n"
          ]
        },
        {
          "name": "stderr",
          "output_type": "stream",
          "text": [
            "Epoch [31]: 100%|████████████████████████████████████████████| 352/352 [00:13<00:00, 25.66it/s, acc=76.3, loss=0.696]\n"
          ]
        },
        {
          "name": "stdout",
          "output_type": "stream",
          "text": [
            "Val Accuracy: 68.32%, Loss: 0.9429\n"
          ]
        },
        {
          "name": "stderr",
          "output_type": "stream",
          "text": [
            "Epoch [32]: 100%|████████████████████████████████████████████| 352/352 [00:13<00:00, 25.38it/s, acc=76.7, loss=0.687]\n"
          ]
        },
        {
          "name": "stdout",
          "output_type": "stream",
          "text": [
            "Val Accuracy: 73.02%, Loss: 0.7992\n"
          ]
        },
        {
          "name": "stderr",
          "output_type": "stream",
          "text": [
            "Epoch [33]: 100%|████████████████████████████████████████████| 352/352 [00:13<00:00, 25.19it/s, acc=76.5, loss=0.693]\n"
          ]
        },
        {
          "name": "stdout",
          "output_type": "stream",
          "text": [
            "Val Accuracy: 68.16%, Loss: 0.9503\n"
          ]
        },
        {
          "name": "stderr",
          "output_type": "stream",
          "text": [
            "Epoch [34]: 100%|████████████████████████████████████████████| 352/352 [00:13<00:00, 26.03it/s, acc=76.5, loss=0.687]\n"
          ]
        },
        {
          "name": "stdout",
          "output_type": "stream",
          "text": [
            "Val Accuracy: 74.90%, Loss: 0.7556\n"
          ]
        },
        {
          "name": "stderr",
          "output_type": "stream",
          "text": [
            "Epoch [35]: 100%|████████████████████████████████████████████| 352/352 [00:13<00:00, 25.74it/s, acc=77.1, loss=0.678]\n"
          ]
        },
        {
          "name": "stdout",
          "output_type": "stream",
          "text": [
            "Val Accuracy: 72.78%, Loss: 0.8072\n"
          ]
        },
        {
          "name": "stderr",
          "output_type": "stream",
          "text": [
            "Epoch [36]: 100%|██████████████████████████████████████████████| 352/352 [00:13<00:00, 26.41it/s, acc=77, loss=0.677]\n"
          ]
        },
        {
          "name": "stdout",
          "output_type": "stream",
          "text": [
            "Val Accuracy: 71.74%, Loss: 0.8356\n"
          ]
        },
        {
          "name": "stderr",
          "output_type": "stream",
          "text": [
            "Epoch [37]: 100%|████████████████████████████████████████████| 352/352 [00:13<00:00, 25.64it/s, acc=77.1, loss=0.672]\n"
          ]
        },
        {
          "name": "stdout",
          "output_type": "stream",
          "text": [
            "Val Accuracy: 65.28%, Loss: 1.1600\n"
          ]
        },
        {
          "name": "stderr",
          "output_type": "stream",
          "text": [
            "Epoch [38]: 100%|████████████████████████████████████████████| 352/352 [00:13<00:00, 25.69it/s, acc=77.4, loss=0.669]\n"
          ]
        },
        {
          "name": "stdout",
          "output_type": "stream",
          "text": [
            "Val Accuracy: 72.98%, Loss: 0.8090\n"
          ]
        },
        {
          "name": "stderr",
          "output_type": "stream",
          "text": [
            "Epoch [39]: 100%|██████████████████████████████████████████████| 352/352 [00:13<00:00, 26.53it/s, acc=77, loss=0.677]\n"
          ]
        },
        {
          "name": "stdout",
          "output_type": "stream",
          "text": [
            "Val Accuracy: 70.38%, Loss: 0.9047\n"
          ]
        },
        {
          "name": "stderr",
          "output_type": "stream",
          "text": [
            "Epoch [40]: 100%|████████████████████████████████████████████| 352/352 [00:13<00:00, 26.32it/s, acc=77.5, loss=0.665]\n"
          ]
        },
        {
          "name": "stdout",
          "output_type": "stream",
          "text": [
            "Val Accuracy: 75.16%, Loss: 0.7531\n"
          ]
        },
        {
          "name": "stderr",
          "output_type": "stream",
          "text": [
            "Epoch [41]: 100%|████████████████████████████████████████████| 352/352 [00:13<00:00, 25.44it/s, acc=77.8, loss=0.658]\n"
          ]
        },
        {
          "name": "stdout",
          "output_type": "stream",
          "text": [
            "Val Accuracy: 73.74%, Loss: 0.7891\n"
          ]
        },
        {
          "name": "stderr",
          "output_type": "stream",
          "text": [
            "Epoch [42]: 100%|████████████████████████████████████████████| 352/352 [00:14<00:00, 25.08it/s, acc=77.3, loss=0.668]\n"
          ]
        },
        {
          "name": "stdout",
          "output_type": "stream",
          "text": [
            "Val Accuracy: 72.12%, Loss: 0.8135\n"
          ]
        },
        {
          "name": "stderr",
          "output_type": "stream",
          "text": [
            "Epoch [43]: 100%|████████████████████████████████████████████| 352/352 [00:13<00:00, 25.24it/s, acc=77.6, loss=0.659]\n"
          ]
        },
        {
          "name": "stdout",
          "output_type": "stream",
          "text": [
            "Val Accuracy: 73.06%, Loss: 0.7872\n"
          ]
        },
        {
          "name": "stderr",
          "output_type": "stream",
          "text": [
            "Epoch [44]: 100%|████████████████████████████████████████████| 352/352 [00:13<00:00, 25.39it/s, acc=77.9, loss=0.658]\n"
          ]
        },
        {
          "name": "stdout",
          "output_type": "stream",
          "text": [
            "Val Accuracy: 73.90%, Loss: 0.7760\n"
          ]
        },
        {
          "name": "stderr",
          "output_type": "stream",
          "text": [
            "Epoch [45]: 100%|████████████████████████████████████████████| 352/352 [00:14<00:00, 25.12it/s, acc=77.8, loss=0.651]\n"
          ]
        },
        {
          "name": "stdout",
          "output_type": "stream",
          "text": [
            "Val Accuracy: 71.36%, Loss: 0.8477\n"
          ]
        },
        {
          "name": "stderr",
          "output_type": "stream",
          "text": [
            "Epoch [46]: 100%|██████████████████████████████████████████████| 352/352 [00:14<00:00, 24.78it/s, acc=78, loss=0.651]\n"
          ]
        },
        {
          "name": "stdout",
          "output_type": "stream",
          "text": [
            "Val Accuracy: 70.22%, Loss: 0.8910\n"
          ]
        },
        {
          "name": "stderr",
          "output_type": "stream",
          "text": [
            "Epoch [47]: 100%|████████████████████████████████████████████| 352/352 [00:13<00:00, 25.41it/s, acc=78.1, loss=0.645]\n"
          ]
        },
        {
          "name": "stdout",
          "output_type": "stream",
          "text": [
            "Val Accuracy: 73.28%, Loss: 0.7984\n"
          ]
        },
        {
          "name": "stderr",
          "output_type": "stream",
          "text": [
            "Epoch [48]: 100%|████████████████████████████████████████████| 352/352 [00:13<00:00, 25.64it/s, acc=77.8, loss=0.653]\n"
          ]
        },
        {
          "name": "stdout",
          "output_type": "stream",
          "text": [
            "Val Accuracy: 72.46%, Loss: 0.8217\n"
          ]
        },
        {
          "name": "stderr",
          "output_type": "stream",
          "text": [
            "Epoch [49]: 100%|████████████████████████████████████████████| 352/352 [00:13<00:00, 26.12it/s, acc=78.3, loss=0.636]\n"
          ]
        },
        {
          "name": "stdout",
          "output_type": "stream",
          "text": [
            "Val Accuracy: 74.32%, Loss: 0.7486\n"
          ]
        },
        {
          "name": "stderr",
          "output_type": "stream",
          "text": [
            "Epoch [50]: 100%|████████████████████████████████████████████| 352/352 [00:13<00:00, 25.41it/s, acc=78.4, loss=0.634]\n"
          ]
        },
        {
          "name": "stdout",
          "output_type": "stream",
          "text": [
            "Val Accuracy: 71.72%, Loss: 0.8427\n"
          ]
        },
        {
          "name": "stderr",
          "output_type": "stream",
          "text": [
            "Epoch [51]: 100%|████████████████████████████████████████████| 352/352 [00:14<00:00, 25.01it/s, acc=78.7, loss=0.628]\n"
          ]
        },
        {
          "name": "stdout",
          "output_type": "stream",
          "text": [
            "Val Accuracy: 72.42%, Loss: 0.8345\n"
          ]
        },
        {
          "name": "stderr",
          "output_type": "stream",
          "text": [
            "Epoch [52]: 100%|████████████████████████████████████████████| 352/352 [00:14<00:00, 24.88it/s, acc=78.8, loss=0.627]\n"
          ]
        },
        {
          "name": "stdout",
          "output_type": "stream",
          "text": [
            "Val Accuracy: 74.96%, Loss: 0.7603\n"
          ]
        },
        {
          "name": "stderr",
          "output_type": "stream",
          "text": [
            "Epoch [53]: 100%|████████████████████████████████████████████| 352/352 [00:14<00:00, 25.09it/s, acc=78.8, loss=0.618]\n"
          ]
        },
        {
          "name": "stdout",
          "output_type": "stream",
          "text": [
            "Val Accuracy: 72.78%, Loss: 0.7924\n"
          ]
        },
        {
          "name": "stderr",
          "output_type": "stream",
          "text": [
            "Epoch [54]: 100%|████████████████████████████████████████████| 352/352 [00:14<00:00, 24.89it/s, acc=78.7, loss=0.625]\n"
          ]
        },
        {
          "name": "stdout",
          "output_type": "stream",
          "text": [
            "Val Accuracy: 76.10%, Loss: 0.6988\n"
          ]
        },
        {
          "name": "stderr",
          "output_type": "stream",
          "text": [
            "Epoch [55]: 100%|████████████████████████████████████████████| 352/352 [00:14<00:00, 24.61it/s, acc=78.8, loss=0.626]\n"
          ]
        },
        {
          "name": "stdout",
          "output_type": "stream",
          "text": [
            "Val Accuracy: 73.04%, Loss: 0.7871\n"
          ]
        },
        {
          "name": "stderr",
          "output_type": "stream",
          "text": [
            "Epoch [56]: 100%|█████████████████████████████████████████████| 352/352 [00:13<00:00, 25.44it/s, acc=78.9, loss=0.62]\n"
          ]
        },
        {
          "name": "stdout",
          "output_type": "stream",
          "text": [
            "Val Accuracy: 73.12%, Loss: 0.7687\n"
          ]
        },
        {
          "name": "stderr",
          "output_type": "stream",
          "text": [
            "Epoch [57]: 100%|████████████████████████████████████████████| 352/352 [00:13<00:00, 25.26it/s, acc=78.9, loss=0.624]\n"
          ]
        },
        {
          "name": "stdout",
          "output_type": "stream",
          "text": [
            "Val Accuracy: 74.64%, Loss: 0.7866\n"
          ]
        },
        {
          "name": "stderr",
          "output_type": "stream",
          "text": [
            "Epoch [58]: 100%|████████████████████████████████████████████| 352/352 [00:13<00:00, 25.54it/s, acc=79.3, loss=0.612]\n"
          ]
        },
        {
          "name": "stdout",
          "output_type": "stream",
          "text": [
            "Val Accuracy: 73.72%, Loss: 0.7641\n"
          ]
        },
        {
          "name": "stderr",
          "output_type": "stream",
          "text": [
            "Epoch [59]: 100%|█████████████████████████████████████████████| 352/352 [00:14<00:00, 24.94it/s, acc=79.1, loss=0.61]\n"
          ]
        },
        {
          "name": "stdout",
          "output_type": "stream",
          "text": [
            "Val Accuracy: 76.14%, Loss: 0.7209\n"
          ]
        },
        {
          "name": "stderr",
          "output_type": "stream",
          "text": [
            "Epoch [60]: 100%|████████████████████████████████████████████| 352/352 [00:13<00:00, 25.37it/s, acc=79.5, loss=0.606]\n"
          ]
        },
        {
          "name": "stdout",
          "output_type": "stream",
          "text": [
            "Val Accuracy: 72.34%, Loss: 0.8181\n"
          ]
        },
        {
          "name": "stderr",
          "output_type": "stream",
          "text": [
            "Epoch [61]: 100%|████████████████████████████████████████████| 352/352 [00:14<00:00, 24.76it/s, acc=79.4, loss=0.608]\n"
          ]
        },
        {
          "name": "stdout",
          "output_type": "stream",
          "text": [
            "Val Accuracy: 76.98%, Loss: 0.6865\n"
          ]
        },
        {
          "name": "stderr",
          "output_type": "stream",
          "text": [
            "Epoch [62]: 100%|████████████████████████████████████████████| 352/352 [00:13<00:00, 25.31it/s, acc=79.9, loss=0.593]\n"
          ]
        },
        {
          "name": "stdout",
          "output_type": "stream",
          "text": [
            "Val Accuracy: 73.94%, Loss: 0.7842\n"
          ]
        },
        {
          "name": "stderr",
          "output_type": "stream",
          "text": [
            "Epoch [63]: 100%|████████████████████████████████████████████| 352/352 [00:14<00:00, 24.71it/s, acc=79.7, loss=0.596]\n"
          ]
        },
        {
          "name": "stdout",
          "output_type": "stream",
          "text": [
            "Val Accuracy: 75.82%, Loss: 0.7209\n"
          ]
        },
        {
          "name": "stderr",
          "output_type": "stream",
          "text": [
            "Epoch [64]: 100%|████████████████████████████████████████████| 352/352 [00:14<00:00, 25.08it/s, acc=79.6, loss=0.595]\n"
          ]
        },
        {
          "name": "stdout",
          "output_type": "stream",
          "text": [
            "Val Accuracy: 72.38%, Loss: 0.8467\n"
          ]
        },
        {
          "name": "stderr",
          "output_type": "stream",
          "text": [
            "Epoch [65]: 100%|████████████████████████████████████████████| 352/352 [00:14<00:00, 24.89it/s, acc=79.8, loss=0.597]\n"
          ]
        },
        {
          "name": "stdout",
          "output_type": "stream",
          "text": [
            "Val Accuracy: 73.56%, Loss: 0.8005\n"
          ]
        },
        {
          "name": "stderr",
          "output_type": "stream",
          "text": [
            "Epoch [66]: 100%|██████████████████████████████████████████████| 352/352 [00:13<00:00, 25.57it/s, acc=80, loss=0.589]\n"
          ]
        },
        {
          "name": "stdout",
          "output_type": "stream",
          "text": [
            "Val Accuracy: 73.04%, Loss: 0.8029\n"
          ]
        },
        {
          "name": "stderr",
          "output_type": "stream",
          "text": [
            "Epoch [67]: 100%|██████████████████████████████████████████████| 352/352 [00:14<00:00, 25.01it/s, acc=80, loss=0.588]\n"
          ]
        },
        {
          "name": "stdout",
          "output_type": "stream",
          "text": [
            "Val Accuracy: 74.76%, Loss: 0.7246\n"
          ]
        },
        {
          "name": "stderr",
          "output_type": "stream",
          "text": [
            "Epoch [68]: 100%|█████████████████████████████████████████████| 352/352 [00:13<00:00, 25.25it/s, acc=79.9, loss=0.59]\n"
          ]
        },
        {
          "name": "stdout",
          "output_type": "stream",
          "text": [
            "Val Accuracy: 72.50%, Loss: 0.8301\n"
          ]
        },
        {
          "name": "stderr",
          "output_type": "stream",
          "text": [
            "Epoch [69]: 100%|████████████████████████████████████████████| 352/352 [00:14<00:00, 25.04it/s, acc=80.6, loss=0.573]\n"
          ]
        },
        {
          "name": "stdout",
          "output_type": "stream",
          "text": [
            "Val Accuracy: 73.56%, Loss: 0.8213\n"
          ]
        },
        {
          "name": "stderr",
          "output_type": "stream",
          "text": [
            "Epoch [70]: 100%|████████████████████████████████████████████| 352/352 [00:14<00:00, 24.98it/s, acc=80.3, loss=0.578]\n"
          ]
        },
        {
          "name": "stdout",
          "output_type": "stream",
          "text": [
            "Val Accuracy: 77.56%, Loss: 0.6686\n"
          ]
        },
        {
          "name": "stderr",
          "output_type": "stream",
          "text": [
            "Epoch [71]: 100%|████████████████████████████████████████████| 352/352 [00:14<00:00, 24.77it/s, acc=80.3, loss=0.583]\n"
          ]
        },
        {
          "name": "stdout",
          "output_type": "stream",
          "text": [
            "Val Accuracy: 76.26%, Loss: 0.6911\n"
          ]
        },
        {
          "name": "stderr",
          "output_type": "stream",
          "text": [
            "Epoch [72]: 100%|████████████████████████████████████████████| 352/352 [00:13<00:00, 25.30it/s, acc=80.8, loss=0.566]\n"
          ]
        },
        {
          "name": "stdout",
          "output_type": "stream",
          "text": [
            "Val Accuracy: 76.74%, Loss: 0.7027\n"
          ]
        },
        {
          "name": "stderr",
          "output_type": "stream",
          "text": [
            "Epoch [73]: 100%|████████████████████████████████████████████| 352/352 [00:13<00:00, 25.18it/s, acc=81.1, loss=0.563]\n"
          ]
        },
        {
          "name": "stdout",
          "output_type": "stream",
          "text": [
            "Val Accuracy: 75.24%, Loss: 0.7500\n"
          ]
        },
        {
          "name": "stderr",
          "output_type": "stream",
          "text": [
            "Epoch [74]: 100%|████████████████████████████████████████████| 352/352 [00:13<00:00, 25.35it/s, acc=80.4, loss=0.577]\n"
          ]
        },
        {
          "name": "stdout",
          "output_type": "stream",
          "text": [
            "Val Accuracy: 76.68%, Loss: 0.6888\n"
          ]
        },
        {
          "name": "stderr",
          "output_type": "stream",
          "text": [
            "Epoch [75]: 100%|████████████████████████████████████████████| 352/352 [00:13<00:00, 25.35it/s, acc=80.9, loss=0.562]\n"
          ]
        },
        {
          "name": "stdout",
          "output_type": "stream",
          "text": [
            "Val Accuracy: 75.06%, Loss: 0.7453\n"
          ]
        },
        {
          "name": "stderr",
          "output_type": "stream",
          "text": [
            "Epoch [76]: 100%|████████████████████████████████████████████| 352/352 [00:14<00:00, 24.92it/s, acc=80.8, loss=0.566]\n"
          ]
        },
        {
          "name": "stdout",
          "output_type": "stream",
          "text": [
            "Val Accuracy: 78.18%, Loss: 0.6413\n"
          ]
        },
        {
          "name": "stderr",
          "output_type": "stream",
          "text": [
            "Epoch [77]: 100%|█████████████████████████████████████████████| 352/352 [00:14<00:00, 24.92it/s, acc=81.2, loss=0.56]\n"
          ]
        },
        {
          "name": "stdout",
          "output_type": "stream",
          "text": [
            "Val Accuracy: 74.62%, Loss: 0.7536\n"
          ]
        },
        {
          "name": "stderr",
          "output_type": "stream",
          "text": [
            "Epoch [78]: 100%|████████████████████████████████████████████| 352/352 [00:13<00:00, 25.76it/s, acc=81.5, loss=0.549]\n"
          ]
        },
        {
          "name": "stdout",
          "output_type": "stream",
          "text": [
            "Val Accuracy: 75.14%, Loss: 0.7603\n"
          ]
        },
        {
          "name": "stderr",
          "output_type": "stream",
          "text": [
            "Epoch [79]: 100%|█████████████████████████████████████████████| 352/352 [00:13<00:00, 26.13it/s, acc=81.6, loss=0.54]\n"
          ]
        },
        {
          "name": "stdout",
          "output_type": "stream",
          "text": [
            "Val Accuracy: 73.34%, Loss: 0.7896\n"
          ]
        },
        {
          "name": "stderr",
          "output_type": "stream",
          "text": [
            "Epoch [80]: 100%|████████████████████████████████████████████| 352/352 [00:13<00:00, 25.92it/s, acc=81.4, loss=0.547]\n"
          ]
        },
        {
          "name": "stdout",
          "output_type": "stream",
          "text": [
            "Val Accuracy: 78.04%, Loss: 0.6692\n"
          ]
        },
        {
          "name": "stderr",
          "output_type": "stream",
          "text": [
            "Epoch [81]: 100%|████████████████████████████████████████████| 352/352 [00:13<00:00, 25.64it/s, acc=81.5, loss=0.547]\n"
          ]
        },
        {
          "name": "stdout",
          "output_type": "stream",
          "text": [
            "Val Accuracy: 72.36%, Loss: 0.8588\n"
          ]
        },
        {
          "name": "stderr",
          "output_type": "stream",
          "text": [
            "Epoch [82]: 100%|████████████████████████████████████████████| 352/352 [00:13<00:00, 26.54it/s, acc=81.7, loss=0.542]\n"
          ]
        },
        {
          "name": "stdout",
          "output_type": "stream",
          "text": [
            "Val Accuracy: 77.00%, Loss: 0.6889\n"
          ]
        },
        {
          "name": "stderr",
          "output_type": "stream",
          "text": [
            "Epoch [83]: 100%|████████████████████████████████████████████| 352/352 [00:13<00:00, 25.92it/s, acc=81.9, loss=0.538]\n"
          ]
        },
        {
          "name": "stdout",
          "output_type": "stream",
          "text": [
            "Val Accuracy: 78.44%, Loss: 0.6518\n"
          ]
        },
        {
          "name": "stderr",
          "output_type": "stream",
          "text": [
            "Epoch [84]: 100%|████████████████████████████████████████████| 352/352 [00:13<00:00, 25.80it/s, acc=81.9, loss=0.536]\n"
          ]
        },
        {
          "name": "stdout",
          "output_type": "stream",
          "text": [
            "Val Accuracy: 78.62%, Loss: 0.6388\n"
          ]
        },
        {
          "name": "stderr",
          "output_type": "stream",
          "text": [
            "Epoch [85]: 100%|█████████████████████████████████████████████| 352/352 [00:11<00:00, 31.33it/s, acc=81.9, loss=0.53]\n"
          ]
        },
        {
          "name": "stdout",
          "output_type": "stream",
          "text": [
            "Val Accuracy: 78.08%, Loss: 0.6560\n"
          ]
        },
        {
          "name": "stderr",
          "output_type": "stream",
          "text": [
            "Epoch [86]: 100%|██████████████████████████████████████████████| 352/352 [00:13<00:00, 26.56it/s, acc=82, loss=0.531]\n"
          ]
        },
        {
          "name": "stdout",
          "output_type": "stream",
          "text": [
            "Val Accuracy: 77.74%, Loss: 0.6618\n"
          ]
        },
        {
          "name": "stderr",
          "output_type": "stream",
          "text": [
            "Epoch [87]: 100%|█████████████████████████████████████████████| 352/352 [00:13<00:00, 26.91it/s, acc=82.4, loss=0.52]\n"
          ]
        },
        {
          "name": "stdout",
          "output_type": "stream",
          "text": [
            "Val Accuracy: 77.66%, Loss: 0.6810\n"
          ]
        },
        {
          "name": "stderr",
          "output_type": "stream",
          "text": [
            "Epoch [88]: 100%|████████████████████████████████████████████| 352/352 [00:13<00:00, 25.73it/s, acc=82.3, loss=0.518]\n"
          ]
        },
        {
          "name": "stdout",
          "output_type": "stream",
          "text": [
            "Val Accuracy: 77.58%, Loss: 0.6725\n"
          ]
        },
        {
          "name": "stderr",
          "output_type": "stream",
          "text": [
            "Epoch [89]: 100%|█████████████████████████████████████████████| 352/352 [00:13<00:00, 25.75it/s, acc=82.4, loss=0.52]\n"
          ]
        },
        {
          "name": "stdout",
          "output_type": "stream",
          "text": [
            "Val Accuracy: 76.22%, Loss: 0.7269\n"
          ]
        },
        {
          "name": "stderr",
          "output_type": "stream",
          "text": [
            "Epoch [90]: 100%|████████████████████████████████████████████| 352/352 [00:13<00:00, 26.55it/s, acc=82.6, loss=0.508]\n"
          ]
        },
        {
          "name": "stdout",
          "output_type": "stream",
          "text": [
            "Val Accuracy: 77.96%, Loss: 0.6589\n"
          ]
        },
        {
          "name": "stderr",
          "output_type": "stream",
          "text": [
            "Epoch [91]: 100%|████████████████████████████████████████████| 352/352 [00:13<00:00, 26.35it/s, acc=82.9, loss=0.506]\n"
          ]
        },
        {
          "name": "stdout",
          "output_type": "stream",
          "text": [
            "Val Accuracy: 77.80%, Loss: 0.6698\n"
          ]
        },
        {
          "name": "stderr",
          "output_type": "stream",
          "text": [
            "Epoch [92]: 100%|████████████████████████████████████████████| 352/352 [00:13<00:00, 26.25it/s, acc=82.7, loss=0.508]\n"
          ]
        },
        {
          "name": "stdout",
          "output_type": "stream",
          "text": [
            "Val Accuracy: 79.80%, Loss: 0.5918\n"
          ]
        },
        {
          "name": "stderr",
          "output_type": "stream",
          "text": [
            "Epoch [93]: 100%|████████████████████████████████████████████| 352/352 [00:13<00:00, 26.46it/s, acc=83.1, loss=0.498]\n"
          ]
        },
        {
          "name": "stdout",
          "output_type": "stream",
          "text": [
            "Val Accuracy: 78.58%, Loss: 0.6456\n"
          ]
        },
        {
          "name": "stderr",
          "output_type": "stream",
          "text": [
            "Epoch [94]: 100%|██████████████████████████████████████████████| 352/352 [00:13<00:00, 26.26it/s, acc=83, loss=0.497]\n"
          ]
        },
        {
          "name": "stdout",
          "output_type": "stream",
          "text": [
            "Val Accuracy: 77.24%, Loss: 0.6791\n"
          ]
        },
        {
          "name": "stderr",
          "output_type": "stream",
          "text": [
            "Epoch [95]: 100%|████████████████████████████████████████████| 352/352 [00:13<00:00, 26.45it/s, acc=83.1, loss=0.496]\n"
          ]
        },
        {
          "name": "stdout",
          "output_type": "stream",
          "text": [
            "Val Accuracy: 79.92%, Loss: 0.5954\n"
          ]
        },
        {
          "name": "stderr",
          "output_type": "stream",
          "text": [
            "Epoch [96]: 100%|████████████████████████████████████████████| 352/352 [00:13<00:00, 26.47it/s, acc=83.3, loss=0.487]\n"
          ]
        },
        {
          "name": "stdout",
          "output_type": "stream",
          "text": [
            "Val Accuracy: 78.42%, Loss: 0.6476\n"
          ]
        },
        {
          "name": "stderr",
          "output_type": "stream",
          "text": [
            "Epoch [97]: 100%|████████████████████████████████████████████| 352/352 [00:13<00:00, 26.35it/s, acc=83.4, loss=0.489]\n"
          ]
        },
        {
          "name": "stdout",
          "output_type": "stream",
          "text": [
            "Val Accuracy: 76.04%, Loss: 0.7227\n"
          ]
        },
        {
          "name": "stderr",
          "output_type": "stream",
          "text": [
            "Epoch [98]: 100%|████████████████████████████████████████████| 352/352 [00:12<00:00, 27.81it/s, acc=83.6, loss=0.478]\n"
          ]
        },
        {
          "name": "stdout",
          "output_type": "stream",
          "text": [
            "Val Accuracy: 78.86%, Loss: 0.6391\n"
          ]
        },
        {
          "name": "stderr",
          "output_type": "stream",
          "text": [
            "Epoch [99]: 100%|████████████████████████████████████████████| 352/352 [00:13<00:00, 25.78it/s, acc=83.4, loss=0.487]\n"
          ]
        },
        {
          "name": "stdout",
          "output_type": "stream",
          "text": [
            "Val Accuracy: 79.18%, Loss: 0.6116\n"
          ]
        },
        {
          "name": "stderr",
          "output_type": "stream",
          "text": [
            "Epoch [100]: 100%|███████████████████████████████████████████| 352/352 [00:13<00:00, 26.70it/s, acc=83.8, loss=0.473]\n"
          ]
        },
        {
          "name": "stdout",
          "output_type": "stream",
          "text": [
            "Val Accuracy: 81.38%, Loss: 0.5420\n"
          ]
        },
        {
          "name": "stderr",
          "output_type": "stream",
          "text": [
            "Epoch [101]: 100%|███████████████████████████████████████████| 352/352 [00:13<00:00, 26.29it/s, acc=84.1, loss=0.466]\n"
          ]
        },
        {
          "name": "stdout",
          "output_type": "stream",
          "text": [
            "Val Accuracy: 79.32%, Loss: 0.6227\n"
          ]
        },
        {
          "name": "stderr",
          "output_type": "stream",
          "text": [
            "Epoch [102]: 100%|██████████████████████████████████████████████| 352/352 [00:13<00:00, 26.73it/s, acc=84, loss=0.47]\n"
          ]
        },
        {
          "name": "stdout",
          "output_type": "stream",
          "text": [
            "Val Accuracy: 80.22%, Loss: 0.5865\n"
          ]
        },
        {
          "name": "stderr",
          "output_type": "stream",
          "text": [
            "Epoch [103]: 100%|███████████████████████████████████████████| 352/352 [00:13<00:00, 26.08it/s, acc=84.1, loss=0.465]\n"
          ]
        },
        {
          "name": "stdout",
          "output_type": "stream",
          "text": [
            "Val Accuracy: 82.08%, Loss: 0.5277\n"
          ]
        },
        {
          "name": "stderr",
          "output_type": "stream",
          "text": [
            "Epoch [104]: 100%|███████████████████████████████████████████| 352/352 [00:13<00:00, 26.03it/s, acc=84.7, loss=0.452]\n"
          ]
        },
        {
          "name": "stdout",
          "output_type": "stream",
          "text": [
            "Val Accuracy: 77.60%, Loss: 0.6948\n"
          ]
        },
        {
          "name": "stderr",
          "output_type": "stream",
          "text": [
            "Epoch [105]: 100%|███████████████████████████████████████████| 352/352 [00:13<00:00, 26.53it/s, acc=84.7, loss=0.454]\n"
          ]
        },
        {
          "name": "stdout",
          "output_type": "stream",
          "text": [
            "Val Accuracy: 79.90%, Loss: 0.6111\n"
          ]
        },
        {
          "name": "stderr",
          "output_type": "stream",
          "text": [
            "Epoch [106]: 100%|████████████████████████████████████████████| 352/352 [00:12<00:00, 27.27it/s, acc=84.7, loss=0.45]\n"
          ]
        },
        {
          "name": "stdout",
          "output_type": "stream",
          "text": [
            "Val Accuracy: 79.52%, Loss: 0.6172\n"
          ]
        },
        {
          "name": "stderr",
          "output_type": "stream",
          "text": [
            "Epoch [107]: 100%|███████████████████████████████████████████| 352/352 [00:13<00:00, 25.82it/s, acc=84.9, loss=0.439]\n"
          ]
        },
        {
          "name": "stdout",
          "output_type": "stream",
          "text": [
            "Val Accuracy: 80.70%, Loss: 0.5682\n"
          ]
        },
        {
          "name": "stderr",
          "output_type": "stream",
          "text": [
            "Epoch [108]: 100%|███████████████████████████████████████████| 352/352 [00:13<00:00, 27.04it/s, acc=84.9, loss=0.439]\n"
          ]
        },
        {
          "name": "stdout",
          "output_type": "stream",
          "text": [
            "Val Accuracy: 79.82%, Loss: 0.6161\n"
          ]
        },
        {
          "name": "stderr",
          "output_type": "stream",
          "text": [
            "Epoch [109]: 100%|███████████████████████████████████████████| 352/352 [00:13<00:00, 25.96it/s, acc=85.2, loss=0.437]\n"
          ]
        },
        {
          "name": "stdout",
          "output_type": "stream",
          "text": [
            "Val Accuracy: 79.38%, Loss: 0.6024\n"
          ]
        },
        {
          "name": "stderr",
          "output_type": "stream",
          "text": [
            "Epoch [110]: 100%|███████████████████████████████████████████| 352/352 [00:12<00:00, 27.37it/s, acc=85.4, loss=0.432]\n"
          ]
        },
        {
          "name": "stdout",
          "output_type": "stream",
          "text": [
            "Val Accuracy: 80.10%, Loss: 0.6035\n"
          ]
        },
        {
          "name": "stderr",
          "output_type": "stream",
          "text": [
            "Epoch [111]: 100%|███████████████████████████████████████████| 352/352 [00:12<00:00, 27.41it/s, acc=85.6, loss=0.424]\n"
          ]
        },
        {
          "name": "stdout",
          "output_type": "stream",
          "text": [
            "Val Accuracy: 80.92%, Loss: 0.5617\n"
          ]
        },
        {
          "name": "stderr",
          "output_type": "stream",
          "text": [
            "Epoch [112]: 100%|███████████████████████████████████████████| 352/352 [00:12<00:00, 27.32it/s, acc=85.7, loss=0.423]\n"
          ]
        },
        {
          "name": "stdout",
          "output_type": "stream",
          "text": [
            "Val Accuracy: 81.32%, Loss: 0.5619\n"
          ]
        },
        {
          "name": "stderr",
          "output_type": "stream",
          "text": [
            "Epoch [113]: 100%|███████████████████████████████████████████| 352/352 [00:12<00:00, 27.43it/s, acc=85.5, loss=0.423]\n"
          ]
        },
        {
          "name": "stdout",
          "output_type": "stream",
          "text": [
            "Val Accuracy: 81.40%, Loss: 0.5668\n"
          ]
        },
        {
          "name": "stderr",
          "output_type": "stream",
          "text": [
            "Epoch [114]: 100%|█████████████████████████████████████████████| 352/352 [00:13<00:00, 25.18it/s, acc=86, loss=0.413]\n"
          ]
        },
        {
          "name": "stdout",
          "output_type": "stream",
          "text": [
            "Val Accuracy: 81.30%, Loss: 0.5613\n"
          ]
        },
        {
          "name": "stderr",
          "output_type": "stream",
          "text": [
            "Epoch [115]: 100%|███████████████████████████████████████████| 352/352 [00:13<00:00, 25.48it/s, acc=86.1, loss=0.404]\n"
          ]
        },
        {
          "name": "stdout",
          "output_type": "stream",
          "text": [
            "Val Accuracy: 79.98%, Loss: 0.5943\n"
          ]
        },
        {
          "name": "stderr",
          "output_type": "stream",
          "text": [
            "Epoch [116]: 100%|███████████████████████████████████████████| 352/352 [00:13<00:00, 25.73it/s, acc=86.1, loss=0.405]\n"
          ]
        },
        {
          "name": "stdout",
          "output_type": "stream",
          "text": [
            "Val Accuracy: 82.56%, Loss: 0.5111\n"
          ]
        },
        {
          "name": "stderr",
          "output_type": "stream",
          "text": [
            "Epoch [117]: 100%|█████████████████████████████████████████████| 352/352 [00:13<00:00, 25.68it/s, acc=86.4, loss=0.4]\n"
          ]
        },
        {
          "name": "stdout",
          "output_type": "stream",
          "text": [
            "Val Accuracy: 82.32%, Loss: 0.5528\n"
          ]
        },
        {
          "name": "stderr",
          "output_type": "stream",
          "text": [
            "Epoch [118]: 100%|███████████████████████████████████████████| 352/352 [00:13<00:00, 25.15it/s, acc=86.6, loss=0.391]\n"
          ]
        },
        {
          "name": "stdout",
          "output_type": "stream",
          "text": [
            "Val Accuracy: 79.02%, Loss: 0.6350\n"
          ]
        },
        {
          "name": "stderr",
          "output_type": "stream",
          "text": [
            "Epoch [119]: 100%|███████████████████████████████████████████| 352/352 [00:13<00:00, 25.54it/s, acc=86.6, loss=0.394]\n"
          ]
        },
        {
          "name": "stdout",
          "output_type": "stream",
          "text": [
            "Val Accuracy: 80.96%, Loss: 0.5842\n"
          ]
        },
        {
          "name": "stderr",
          "output_type": "stream",
          "text": [
            "Epoch [120]: 100%|███████████████████████████████████████████| 352/352 [00:14<00:00, 25.12it/s, acc=86.9, loss=0.383]\n"
          ]
        },
        {
          "name": "stdout",
          "output_type": "stream",
          "text": [
            "Val Accuracy: 80.10%, Loss: 0.5859\n"
          ]
        },
        {
          "name": "stderr",
          "output_type": "stream",
          "text": [
            "Epoch [121]: 100%|█████████████████████████████████████████████| 352/352 [00:13<00:00, 25.31it/s, acc=87, loss=0.381]\n"
          ]
        },
        {
          "name": "stdout",
          "output_type": "stream",
          "text": [
            "Val Accuracy: 82.98%, Loss: 0.5094\n"
          ]
        },
        {
          "name": "stderr",
          "output_type": "stream",
          "text": [
            "Epoch [122]: 100%|█████████████████████████████████████████████| 352/352 [00:13<00:00, 25.52it/s, acc=87, loss=0.377]\n"
          ]
        },
        {
          "name": "stdout",
          "output_type": "stream",
          "text": [
            "Val Accuracy: 83.16%, Loss: 0.5076\n"
          ]
        },
        {
          "name": "stderr",
          "output_type": "stream",
          "text": [
            "Epoch [123]: 100%|███████████████████████████████████████████| 352/352 [00:13<00:00, 25.29it/s, acc=87.5, loss=0.363]\n"
          ]
        },
        {
          "name": "stdout",
          "output_type": "stream",
          "text": [
            "Val Accuracy: 82.18%, Loss: 0.5337\n"
          ]
        },
        {
          "name": "stderr",
          "output_type": "stream",
          "text": [
            "Epoch [124]: 100%|███████████████████████████████████████████| 352/352 [00:13<00:00, 25.80it/s, acc=87.5, loss=0.364]\n"
          ]
        },
        {
          "name": "stdout",
          "output_type": "stream",
          "text": [
            "Val Accuracy: 82.48%, Loss: 0.5228\n"
          ]
        },
        {
          "name": "stderr",
          "output_type": "stream",
          "text": [
            "Epoch [125]: 100%|███████████████████████████████████████████| 352/352 [00:13<00:00, 25.20it/s, acc=87.7, loss=0.363]\n"
          ]
        },
        {
          "name": "stdout",
          "output_type": "stream",
          "text": [
            "Val Accuracy: 81.42%, Loss: 0.5578\n"
          ]
        },
        {
          "name": "stderr",
          "output_type": "stream",
          "text": [
            "Epoch [126]: 100%|███████████████████████████████████████████| 352/352 [00:14<00:00, 24.91it/s, acc=87.9, loss=0.355]\n"
          ]
        },
        {
          "name": "stdout",
          "output_type": "stream",
          "text": [
            "Val Accuracy: 81.06%, Loss: 0.5630\n"
          ]
        },
        {
          "name": "stderr",
          "output_type": "stream",
          "text": [
            "Epoch [127]: 100%|███████████████████████████████████████████| 352/352 [00:14<00:00, 24.97it/s, acc=87.9, loss=0.351]\n"
          ]
        },
        {
          "name": "stdout",
          "output_type": "stream",
          "text": [
            "Val Accuracy: 82.74%, Loss: 0.5181\n"
          ]
        },
        {
          "name": "stderr",
          "output_type": "stream",
          "text": [
            "Epoch [128]: 100%|███████████████████████████████████████████| 352/352 [00:13<00:00, 25.31it/s, acc=88.1, loss=0.344]\n"
          ]
        },
        {
          "name": "stdout",
          "output_type": "stream",
          "text": [
            "Val Accuracy: 82.64%, Loss: 0.5459\n"
          ]
        },
        {
          "name": "stderr",
          "output_type": "stream",
          "text": [
            "Epoch [129]: 100%|███████████████████████████████████████████| 352/352 [00:13<00:00, 26.22it/s, acc=88.4, loss=0.339]\n"
          ]
        },
        {
          "name": "stdout",
          "output_type": "stream",
          "text": [
            "Val Accuracy: 81.92%, Loss: 0.5420\n"
          ]
        },
        {
          "name": "stderr",
          "output_type": "stream",
          "text": [
            "Epoch [130]: 100%|███████████████████████████████████████████| 352/352 [00:13<00:00, 26.27it/s, acc=88.5, loss=0.335]\n"
          ]
        },
        {
          "name": "stdout",
          "output_type": "stream",
          "text": [
            "Val Accuracy: 82.90%, Loss: 0.5329\n"
          ]
        },
        {
          "name": "stderr",
          "output_type": "stream",
          "text": [
            "Epoch [131]: 100%|███████████████████████████████████████████| 352/352 [00:12<00:00, 27.26it/s, acc=88.7, loss=0.329]\n"
          ]
        },
        {
          "name": "stdout",
          "output_type": "stream",
          "text": [
            "Val Accuracy: 83.58%, Loss: 0.5021\n"
          ]
        },
        {
          "name": "stderr",
          "output_type": "stream",
          "text": [
            "Epoch [132]: 100%|███████████████████████████████████████████| 352/352 [00:12<00:00, 27.09it/s, acc=89.1, loss=0.322]\n"
          ]
        },
        {
          "name": "stdout",
          "output_type": "stream",
          "text": [
            "Val Accuracy: 83.34%, Loss: 0.4931\n"
          ]
        },
        {
          "name": "stderr",
          "output_type": "stream",
          "text": [
            "Epoch [133]: 100%|█████████████████████████████████████████████| 352/352 [00:13<00:00, 25.96it/s, acc=89, loss=0.319]\n"
          ]
        },
        {
          "name": "stdout",
          "output_type": "stream",
          "text": [
            "Val Accuracy: 81.60%, Loss: 0.5615\n"
          ]
        },
        {
          "name": "stderr",
          "output_type": "stream",
          "text": [
            "Epoch [134]: 100%|███████████████████████████████████████████| 352/352 [00:13<00:00, 26.58it/s, acc=89.2, loss=0.311]\n"
          ]
        },
        {
          "name": "stdout",
          "output_type": "stream",
          "text": [
            "Val Accuracy: 84.10%, Loss: 0.4876\n"
          ]
        },
        {
          "name": "stderr",
          "output_type": "stream",
          "text": [
            "Epoch [135]: 100%|█████████████████████████████████████████████| 352/352 [00:13<00:00, 26.63it/s, acc=89.6, loss=0.3]\n"
          ]
        },
        {
          "name": "stdout",
          "output_type": "stream",
          "text": [
            "Val Accuracy: 83.78%, Loss: 0.4889\n"
          ]
        },
        {
          "name": "stderr",
          "output_type": "stream",
          "text": [
            "Epoch [136]: 100%|███████████████████████████████████████████| 352/352 [00:13<00:00, 26.00it/s, acc=89.6, loss=0.304]\n"
          ]
        },
        {
          "name": "stdout",
          "output_type": "stream",
          "text": [
            "Val Accuracy: 83.72%, Loss: 0.5069\n"
          ]
        },
        {
          "name": "stderr",
          "output_type": "stream",
          "text": [
            "Epoch [137]: 100%|█████████████████████████████████████████████| 352/352 [00:13<00:00, 26.66it/s, acc=90, loss=0.288]\n"
          ]
        },
        {
          "name": "stdout",
          "output_type": "stream",
          "text": [
            "Val Accuracy: 84.42%, Loss: 0.4749\n"
          ]
        },
        {
          "name": "stderr",
          "output_type": "stream",
          "text": [
            "Epoch [138]: 100%|███████████████████████████████████████████| 352/352 [00:13<00:00, 26.07it/s, acc=90.1, loss=0.286]\n"
          ]
        },
        {
          "name": "stdout",
          "output_type": "stream",
          "text": [
            "Val Accuracy: 83.78%, Loss: 0.4997\n"
          ]
        },
        {
          "name": "stderr",
          "output_type": "stream",
          "text": [
            "Epoch [139]: 100%|███████████████████████████████████████████| 352/352 [00:13<00:00, 26.28it/s, acc=90.2, loss=0.283]\n"
          ]
        },
        {
          "name": "stdout",
          "output_type": "stream",
          "text": [
            "Val Accuracy: 83.82%, Loss: 0.5092\n"
          ]
        },
        {
          "name": "stderr",
          "output_type": "stream",
          "text": [
            "Epoch [140]: 100%|████████████████████████████████████████████| 352/352 [00:13<00:00, 26.21it/s, acc=90.3, loss=0.28]\n"
          ]
        },
        {
          "name": "stdout",
          "output_type": "stream",
          "text": [
            "Val Accuracy: 84.54%, Loss: 0.4909\n"
          ]
        },
        {
          "name": "stderr",
          "output_type": "stream",
          "text": [
            "Epoch [141]: 100%|███████████████████████████████████████████| 352/352 [00:13<00:00, 26.16it/s, acc=90.8, loss=0.266]\n"
          ]
        },
        {
          "name": "stdout",
          "output_type": "stream",
          "text": [
            "Val Accuracy: 84.10%, Loss: 0.5037\n"
          ]
        },
        {
          "name": "stderr",
          "output_type": "stream",
          "text": [
            "Epoch [142]: 100%|███████████████████████████████████████████| 352/352 [00:12<00:00, 27.43it/s, acc=90.6, loss=0.268]\n"
          ]
        },
        {
          "name": "stdout",
          "output_type": "stream",
          "text": [
            "Val Accuracy: 83.30%, Loss: 0.5293\n"
          ]
        },
        {
          "name": "stderr",
          "output_type": "stream",
          "text": [
            "Epoch [143]: 100%|███████████████████████████████████████████| 352/352 [00:13<00:00, 26.27it/s, acc=91.3, loss=0.255]\n"
          ]
        },
        {
          "name": "stdout",
          "output_type": "stream",
          "text": [
            "Val Accuracy: 84.90%, Loss: 0.4717\n"
          ]
        },
        {
          "name": "stderr",
          "output_type": "stream",
          "text": [
            "Epoch [144]: 100%|███████████████████████████████████████████| 352/352 [00:13<00:00, 25.42it/s, acc=91.5, loss=0.246]\n"
          ]
        },
        {
          "name": "stdout",
          "output_type": "stream",
          "text": [
            "Val Accuracy: 85.04%, Loss: 0.4799\n"
          ]
        },
        {
          "name": "stderr",
          "output_type": "stream",
          "text": [
            "Epoch [145]: 100%|███████████████████████████████████████████| 352/352 [00:13<00:00, 26.63it/s, acc=91.7, loss=0.242]\n"
          ]
        },
        {
          "name": "stdout",
          "output_type": "stream",
          "text": [
            "Val Accuracy: 84.72%, Loss: 0.4808\n"
          ]
        },
        {
          "name": "stderr",
          "output_type": "stream",
          "text": [
            "Epoch [146]: 100%|████████████████████████████████████████████| 352/352 [00:11<00:00, 30.65it/s, acc=91.6, loss=0.24]\n"
          ]
        },
        {
          "name": "stdout",
          "output_type": "stream",
          "text": [
            "Val Accuracy: 85.60%, Loss: 0.4532\n"
          ]
        },
        {
          "name": "stderr",
          "output_type": "stream",
          "text": [
            "Epoch [147]: 100%|███████████████████████████████████████████| 352/352 [00:12<00:00, 27.85it/s, acc=91.9, loss=0.233]\n"
          ]
        },
        {
          "name": "stdout",
          "output_type": "stream",
          "text": [
            "Val Accuracy: 84.04%, Loss: 0.4910\n"
          ]
        },
        {
          "name": "stderr",
          "output_type": "stream",
          "text": [
            "Epoch [148]: 100%|███████████████████████████████████████████| 352/352 [00:12<00:00, 28.32it/s, acc=92.1, loss=0.229]\n"
          ]
        },
        {
          "name": "stdout",
          "output_type": "stream",
          "text": [
            "Val Accuracy: 84.88%, Loss: 0.4634\n"
          ]
        },
        {
          "name": "stderr",
          "output_type": "stream",
          "text": [
            "Epoch [149]: 100%|███████████████████████████████████████████| 352/352 [00:13<00:00, 25.85it/s, acc=92.4, loss=0.215]\n"
          ]
        },
        {
          "name": "stdout",
          "output_type": "stream",
          "text": [
            "Val Accuracy: 85.90%, Loss: 0.4570\n"
          ]
        },
        {
          "name": "stderr",
          "output_type": "stream",
          "text": [
            "Epoch [150]: 100%|███████████████████████████████████████████| 352/352 [00:13<00:00, 26.22it/s, acc=92.6, loss=0.213]\n"
          ]
        },
        {
          "name": "stdout",
          "output_type": "stream",
          "text": [
            "Val Accuracy: 85.36%, Loss: 0.4715\n"
          ]
        },
        {
          "name": "stderr",
          "output_type": "stream",
          "text": [
            "Epoch [151]: 100%|█████████████████████████████████████████████| 352/352 [00:13<00:00, 26.39it/s, acc=93, loss=0.201]\n"
          ]
        },
        {
          "name": "stdout",
          "output_type": "stream",
          "text": [
            "Val Accuracy: 84.84%, Loss: 0.4937\n"
          ]
        },
        {
          "name": "stderr",
          "output_type": "stream",
          "text": [
            "Epoch [152]: 100%|███████████████████████████████████████████| 352/352 [00:13<00:00, 26.54it/s, acc=92.9, loss=0.205]\n"
          ]
        },
        {
          "name": "stdout",
          "output_type": "stream",
          "text": [
            "Val Accuracy: 85.16%, Loss: 0.4797\n"
          ]
        },
        {
          "name": "stderr",
          "output_type": "stream",
          "text": [
            "Epoch [153]: 100%|███████████████████████████████████████████| 352/352 [00:12<00:00, 27.43it/s, acc=93.4, loss=0.194]\n"
          ]
        },
        {
          "name": "stdout",
          "output_type": "stream",
          "text": [
            "Val Accuracy: 86.30%, Loss: 0.4368\n"
          ]
        },
        {
          "name": "stderr",
          "output_type": "stream",
          "text": [
            "Epoch [154]: 100%|███████████████████████████████████████████| 352/352 [00:12<00:00, 28.37it/s, acc=93.8, loss=0.183]\n"
          ]
        },
        {
          "name": "stdout",
          "output_type": "stream",
          "text": [
            "Val Accuracy: 86.22%, Loss: 0.4546\n"
          ]
        },
        {
          "name": "stderr",
          "output_type": "stream",
          "text": [
            "Epoch [155]: 100%|███████████████████████████████████████████| 352/352 [00:12<00:00, 27.48it/s, acc=94.1, loss=0.173]\n"
          ]
        },
        {
          "name": "stdout",
          "output_type": "stream",
          "text": [
            "Val Accuracy: 86.78%, Loss: 0.4449\n"
          ]
        },
        {
          "name": "stderr",
          "output_type": "stream",
          "text": [
            "Epoch [156]: 100%|█████████████████████████████████████████████| 352/352 [00:13<00:00, 26.81it/s, acc=94, loss=0.174]\n"
          ]
        },
        {
          "name": "stdout",
          "output_type": "stream",
          "text": [
            "Val Accuracy: 85.82%, Loss: 0.4520\n"
          ]
        },
        {
          "name": "stderr",
          "output_type": "stream",
          "text": [
            "Epoch [157]: 100%|███████████████████████████████████████████| 352/352 [00:13<00:00, 26.61it/s, acc=94.4, loss=0.163]\n"
          ]
        },
        {
          "name": "stdout",
          "output_type": "stream",
          "text": [
            "Val Accuracy: 86.36%, Loss: 0.4482\n"
          ]
        },
        {
          "name": "stderr",
          "output_type": "stream",
          "text": [
            "Epoch [158]: 100%|███████████████████████████████████████████| 352/352 [00:13<00:00, 26.62it/s, acc=94.5, loss=0.161]\n"
          ]
        },
        {
          "name": "stdout",
          "output_type": "stream",
          "text": [
            "Val Accuracy: 86.32%, Loss: 0.4450\n"
          ]
        },
        {
          "name": "stderr",
          "output_type": "stream",
          "text": [
            "Epoch [159]: 100%|███████████████████████████████████████████| 352/352 [00:13<00:00, 26.73it/s, acc=94.7, loss=0.152]\n"
          ]
        },
        {
          "name": "stdout",
          "output_type": "stream",
          "text": [
            "Val Accuracy: 86.14%, Loss: 0.4612\n"
          ]
        },
        {
          "name": "stderr",
          "output_type": "stream",
          "text": [
            "Epoch [160]: 100%|███████████████████████████████████████████| 352/352 [00:13<00:00, 26.16it/s, acc=95.1, loss=0.145]\n"
          ]
        },
        {
          "name": "stdout",
          "output_type": "stream",
          "text": [
            "Val Accuracy: 86.98%, Loss: 0.4396\n"
          ]
        },
        {
          "name": "stderr",
          "output_type": "stream",
          "text": [
            "Epoch [161]: 100%|███████████████████████████████████████████| 352/352 [00:12<00:00, 27.65it/s, acc=95.4, loss=0.136]\n"
          ]
        },
        {
          "name": "stdout",
          "output_type": "stream",
          "text": [
            "Val Accuracy: 86.74%, Loss: 0.4529\n"
          ]
        },
        {
          "name": "stderr",
          "output_type": "stream",
          "text": [
            "Epoch [162]: 100%|███████████████████████████████████████████| 352/352 [00:13<00:00, 26.14it/s, acc=95.3, loss=0.133]\n"
          ]
        },
        {
          "name": "stdout",
          "output_type": "stream",
          "text": [
            "Val Accuracy: 86.50%, Loss: 0.4447\n"
          ]
        },
        {
          "name": "stderr",
          "output_type": "stream",
          "text": [
            "Epoch [163]: 100%|███████████████████████████████████████████| 352/352 [00:13<00:00, 25.87it/s, acc=95.5, loss=0.127]\n"
          ]
        },
        {
          "name": "stdout",
          "output_type": "stream",
          "text": [
            "Val Accuracy: 86.92%, Loss: 0.4349\n"
          ]
        },
        {
          "name": "stderr",
          "output_type": "stream",
          "text": [
            "Epoch [164]: 100%|█████████████████████████████████████████████| 352/352 [00:13<00:00, 25.99it/s, acc=96, loss=0.115]\n"
          ]
        },
        {
          "name": "stdout",
          "output_type": "stream",
          "text": [
            "Val Accuracy: 87.04%, Loss: 0.4613\n"
          ]
        },
        {
          "name": "stderr",
          "output_type": "stream",
          "text": [
            "Epoch [165]: 100%|███████████████████████████████████████████| 352/352 [00:13<00:00, 26.34it/s, acc=96.1, loss=0.113]\n"
          ]
        },
        {
          "name": "stdout",
          "output_type": "stream",
          "text": [
            "Val Accuracy: 87.58%, Loss: 0.4402\n"
          ]
        },
        {
          "name": "stderr",
          "output_type": "stream",
          "text": [
            "Epoch [166]: 100%|███████████████████████████████████████████| 352/352 [00:13<00:00, 26.60it/s, acc=96.4, loss=0.103]\n"
          ]
        },
        {
          "name": "stdout",
          "output_type": "stream",
          "text": [
            "Val Accuracy: 87.28%, Loss: 0.4513\n"
          ]
        },
        {
          "name": "stderr",
          "output_type": "stream",
          "text": [
            "Epoch [167]: 100%|██████████████████████████████████████████| 352/352 [00:12<00:00, 29.30it/s, acc=96.7, loss=0.0954]\n"
          ]
        },
        {
          "name": "stdout",
          "output_type": "stream",
          "text": [
            "Val Accuracy: 86.28%, Loss: 0.4923\n"
          ]
        },
        {
          "name": "stderr",
          "output_type": "stream",
          "text": [
            "Epoch [168]: 100%|████████████████████████████████████████████| 352/352 [00:13<00:00, 26.95it/s, acc=97, loss=0.0884]\n"
          ]
        },
        {
          "name": "stdout",
          "output_type": "stream",
          "text": [
            "Val Accuracy: 87.38%, Loss: 0.4615\n"
          ]
        },
        {
          "name": "stderr",
          "output_type": "stream",
          "text": [
            "Epoch [169]: 100%|████████████████████████████████████████████| 352/352 [00:13<00:00, 27.02it/s, acc=97, loss=0.0855]\n"
          ]
        },
        {
          "name": "stdout",
          "output_type": "stream",
          "text": [
            "Val Accuracy: 87.72%, Loss: 0.4587\n"
          ]
        },
        {
          "name": "stderr",
          "output_type": "stream",
          "text": [
            "Epoch [170]: 100%|██████████████████████████████████████████| 352/352 [00:13<00:00, 26.72it/s, acc=97.2, loss=0.0822]\n"
          ]
        },
        {
          "name": "stdout",
          "output_type": "stream",
          "text": [
            "Val Accuracy: 87.76%, Loss: 0.4524\n"
          ]
        },
        {
          "name": "stderr",
          "output_type": "stream",
          "text": [
            "Epoch [171]: 100%|██████████████████████████████████████████| 352/352 [00:13<00:00, 26.05it/s, acc=97.6, loss=0.0703]\n"
          ]
        },
        {
          "name": "stdout",
          "output_type": "stream",
          "text": [
            "Val Accuracy: 87.66%, Loss: 0.4646\n"
          ]
        },
        {
          "name": "stderr",
          "output_type": "stream",
          "text": [
            "Epoch [172]: 100%|██████████████████████████████████████████| 352/352 [00:12<00:00, 27.20it/s, acc=97.6, loss=0.0706]\n"
          ]
        },
        {
          "name": "stdout",
          "output_type": "stream",
          "text": [
            "Val Accuracy: 88.90%, Loss: 0.4164\n"
          ]
        },
        {
          "name": "stderr",
          "output_type": "stream",
          "text": [
            "Epoch [173]: 100%|██████████████████████████████████████████| 352/352 [00:13<00:00, 26.68it/s, acc=97.8, loss=0.0663]\n"
          ]
        },
        {
          "name": "stdout",
          "output_type": "stream",
          "text": [
            "Val Accuracy: 87.06%, Loss: 0.4810\n"
          ]
        },
        {
          "name": "stderr",
          "output_type": "stream",
          "text": [
            "Epoch [174]: 100%|████████████████████████████████████████████| 352/352 [00:13<00:00, 26.85it/s, acc=98, loss=0.0598]\n"
          ]
        },
        {
          "name": "stdout",
          "output_type": "stream",
          "text": [
            "Val Accuracy: 88.10%, Loss: 0.4479\n"
          ]
        },
        {
          "name": "stderr",
          "output_type": "stream",
          "text": [
            "Epoch [175]: 100%|██████████████████████████████████████████| 352/352 [00:12<00:00, 27.72it/s, acc=98.2, loss=0.0527]\n"
          ]
        },
        {
          "name": "stdout",
          "output_type": "stream",
          "text": [
            "Val Accuracy: 87.54%, Loss: 0.4800\n"
          ]
        },
        {
          "name": "stderr",
          "output_type": "stream",
          "text": [
            "Epoch [176]: 100%|██████████████████████████████████████████| 352/352 [00:12<00:00, 27.37it/s, acc=98.4, loss=0.0479]\n"
          ]
        },
        {
          "name": "stdout",
          "output_type": "stream",
          "text": [
            "Val Accuracy: 89.06%, Loss: 0.4256\n"
          ]
        },
        {
          "name": "stderr",
          "output_type": "stream",
          "text": [
            "Epoch [177]: 100%|██████████████████████████████████████████| 352/352 [00:12<00:00, 28.46it/s, acc=98.6, loss=0.0429]\n"
          ]
        },
        {
          "name": "stdout",
          "output_type": "stream",
          "text": [
            "Val Accuracy: 88.56%, Loss: 0.4401\n"
          ]
        },
        {
          "name": "stderr",
          "output_type": "stream",
          "text": [
            "Epoch [178]: 100%|██████████████████████████████████████████| 352/352 [00:12<00:00, 27.78it/s, acc=98.7, loss=0.0417]\n"
          ]
        },
        {
          "name": "stdout",
          "output_type": "stream",
          "text": [
            "Val Accuracy: 88.46%, Loss: 0.4720\n"
          ]
        },
        {
          "name": "stderr",
          "output_type": "stream",
          "text": [
            "Epoch [179]: 100%|██████████████████████████████████████████| 352/352 [00:12<00:00, 27.58it/s, acc=98.7, loss=0.0392]\n"
          ]
        },
        {
          "name": "stdout",
          "output_type": "stream",
          "text": [
            "Val Accuracy: 89.14%, Loss: 0.4414\n"
          ]
        },
        {
          "name": "stderr",
          "output_type": "stream",
          "text": [
            "Epoch [180]: 100%|██████████████████████████████████████████| 352/352 [00:12<00:00, 27.09it/s, acc=98.9, loss=0.0333]\n"
          ]
        },
        {
          "name": "stdout",
          "output_type": "stream",
          "text": [
            "Val Accuracy: 88.34%, Loss: 0.4671\n"
          ]
        },
        {
          "name": "stderr",
          "output_type": "stream",
          "text": [
            "Epoch [181]: 100%|███████████████████████████████████████████| 352/352 [00:13<00:00, 26.98it/s, acc=99.1, loss=0.027]\n"
          ]
        },
        {
          "name": "stdout",
          "output_type": "stream",
          "text": [
            "Val Accuracy: 88.82%, Loss: 0.4573\n"
          ]
        },
        {
          "name": "stderr",
          "output_type": "stream",
          "text": [
            "Epoch [182]: 100%|███████████████████████████████████████████| 352/352 [00:13<00:00, 26.98it/s, acc=99.1, loss=0.026]\n"
          ]
        },
        {
          "name": "stdout",
          "output_type": "stream",
          "text": [
            "Val Accuracy: 88.98%, Loss: 0.4711\n"
          ]
        },
        {
          "name": "stderr",
          "output_type": "stream",
          "text": [
            "Epoch [183]: 100%|██████████████████████████████████████████| 352/352 [00:13<00:00, 26.95it/s, acc=99.2, loss=0.0246]\n"
          ]
        },
        {
          "name": "stdout",
          "output_type": "stream",
          "text": [
            "Val Accuracy: 88.50%, Loss: 0.4535\n"
          ]
        },
        {
          "name": "stderr",
          "output_type": "stream",
          "text": [
            "Epoch [184]: 100%|██████████████████████████████████████████| 352/352 [00:13<00:00, 26.54it/s, acc=99.3, loss=0.0224]\n"
          ]
        },
        {
          "name": "stdout",
          "output_type": "stream",
          "text": [
            "Val Accuracy: 89.48%, Loss: 0.4443\n"
          ]
        },
        {
          "name": "stderr",
          "output_type": "stream",
          "text": [
            "Epoch [185]: 100%|██████████████████████████████████████████| 352/352 [00:13<00:00, 26.41it/s, acc=99.4, loss=0.0188]\n"
          ]
        },
        {
          "name": "stdout",
          "output_type": "stream",
          "text": [
            "Val Accuracy: 89.66%, Loss: 0.4587\n"
          ]
        },
        {
          "name": "stderr",
          "output_type": "stream",
          "text": [
            "Epoch [186]: 100%|██████████████████████████████████████████| 352/352 [00:13<00:00, 27.06it/s, acc=99.4, loss=0.0184]\n"
          ]
        },
        {
          "name": "stdout",
          "output_type": "stream",
          "text": [
            "Val Accuracy: 88.78%, Loss: 0.4656\n"
          ]
        },
        {
          "name": "stderr",
          "output_type": "stream",
          "text": [
            "Epoch [187]: 100%|██████████████████████████████████████████| 352/352 [00:12<00:00, 28.22it/s, acc=99.5, loss=0.0169]\n"
          ]
        },
        {
          "name": "stdout",
          "output_type": "stream",
          "text": [
            "Val Accuracy: 89.88%, Loss: 0.4434\n"
          ]
        },
        {
          "name": "stderr",
          "output_type": "stream",
          "text": [
            "Epoch [188]: 100%|██████████████████████████████████████████| 352/352 [00:12<00:00, 27.29it/s, acc=99.6, loss=0.0138]\n"
          ]
        },
        {
          "name": "stdout",
          "output_type": "stream",
          "text": [
            "Val Accuracy: 89.56%, Loss: 0.4574\n"
          ]
        },
        {
          "name": "stderr",
          "output_type": "stream",
          "text": [
            "Epoch [189]: 100%|██████████████████████████████████████████| 352/352 [00:12<00:00, 27.39it/s, acc=99.5, loss=0.0159]\n"
          ]
        },
        {
          "name": "stdout",
          "output_type": "stream",
          "text": [
            "Val Accuracy: 89.58%, Loss: 0.4441\n"
          ]
        },
        {
          "name": "stderr",
          "output_type": "stream",
          "text": [
            "Epoch [190]: 100%|███████████████████████████████████████████| 352/352 [00:12<00:00, 28.02it/s, acc=99.6, loss=0.013]\n"
          ]
        },
        {
          "name": "stdout",
          "output_type": "stream",
          "text": [
            "Val Accuracy: 89.78%, Loss: 0.4282\n"
          ]
        },
        {
          "name": "stderr",
          "output_type": "stream",
          "text": [
            "Epoch [191]: 100%|██████████████████████████████████████████| 352/352 [00:13<00:00, 26.98it/s, acc=99.6, loss=0.0122]\n"
          ]
        },
        {
          "name": "stdout",
          "output_type": "stream",
          "text": [
            "Val Accuracy: 89.96%, Loss: 0.4467\n"
          ]
        },
        {
          "name": "stderr",
          "output_type": "stream",
          "text": [
            "Epoch [192]: 100%|██████████████████████████████████████████| 352/352 [00:12<00:00, 27.78it/s, acc=99.7, loss=0.0118]\n"
          ]
        },
        {
          "name": "stdout",
          "output_type": "stream",
          "text": [
            "Val Accuracy: 89.86%, Loss: 0.4526\n"
          ]
        },
        {
          "name": "stderr",
          "output_type": "stream",
          "text": [
            "Epoch [193]: 100%|██████████████████████████████████████████| 352/352 [00:12<00:00, 28.30it/s, acc=99.7, loss=0.0118]\n"
          ]
        },
        {
          "name": "stdout",
          "output_type": "stream",
          "text": [
            "Val Accuracy: 89.50%, Loss: 0.4455\n"
          ]
        },
        {
          "name": "stderr",
          "output_type": "stream",
          "text": [
            "Epoch [194]: 100%|██████████████████████████████████████████| 352/352 [00:12<00:00, 28.47it/s, acc=99.7, loss=0.0108]\n"
          ]
        },
        {
          "name": "stdout",
          "output_type": "stream",
          "text": [
            "Val Accuracy: 89.66%, Loss: 0.4534\n"
          ]
        },
        {
          "name": "stderr",
          "output_type": "stream",
          "text": [
            "Epoch [195]: 100%|██████████████████████████████████████████| 352/352 [00:12<00:00, 28.15it/s, acc=99.7, loss=0.0117]\n"
          ]
        },
        {
          "name": "stdout",
          "output_type": "stream",
          "text": [
            "Val Accuracy: 89.92%, Loss: 0.4419\n"
          ]
        },
        {
          "name": "stderr",
          "output_type": "stream",
          "text": [
            "Epoch [196]: 100%|███████████████████████████████████████████| 352/352 [00:12<00:00, 28.11it/s, acc=99.7, loss=0.011]\n"
          ]
        },
        {
          "name": "stdout",
          "output_type": "stream",
          "text": [
            "Val Accuracy: 89.86%, Loss: 0.4354\n"
          ]
        },
        {
          "name": "stderr",
          "output_type": "stream",
          "text": [
            "Epoch [197]: 100%|██████████████████████████████████████████| 352/352 [00:12<00:00, 28.42it/s, acc=99.7, loss=0.0121]\n"
          ]
        },
        {
          "name": "stdout",
          "output_type": "stream",
          "text": [
            "Val Accuracy: 89.84%, Loss: 0.4471\n"
          ]
        },
        {
          "name": "stderr",
          "output_type": "stream",
          "text": [
            "Epoch [198]: 100%|██████████████████████████████████████████| 352/352 [00:11<00:00, 29.65it/s, acc=99.7, loss=0.0115]\n"
          ]
        },
        {
          "name": "stdout",
          "output_type": "stream",
          "text": [
            "Val Accuracy: 90.10%, Loss: 0.4442\n"
          ]
        },
        {
          "name": "stderr",
          "output_type": "stream",
          "text": [
            "Epoch [199]: 100%|██████████████████████████████████████████| 352/352 [00:12<00:00, 27.96it/s, acc=99.7, loss=0.0104]\n"
          ]
        },
        {
          "name": "stdout",
          "output_type": "stream",
          "text": [
            "Val Accuracy: 89.68%, Loss: 0.4611\n",
            "Test Accuracy: 89.91%, Loss: 0.4328\n"
          ]
        },
        {
          "data": {
            "image/png": "[encoded data removed]",
            "text/plain": [
              "<Figure size 1200x500 with 2 Axes>"
            ]
          },
          "metadata": {},
          "output_type": "display_data"
        },
        {
          "name": "stdout",
          "output_type": "stream",
          "text": [
            "\n",
            "Best Val Accuracy: 90.10%\n",
            "Final Test Accuracy: 89.91%\n"
          ]
        }
      ],
      "source": [
        "# === Training Loop ===\n",
        "num_epochs = 400\n",
        "best_acc = 0\n",
        "for epoch in range(num_epochs):\n",
        "    train(epoch)\n",
        "    val_acc = evaluate(valloader, name=\"Val\")\n",
        "    scheduler.step()\n",
        "\n",
        "    # Save best model\n",
        "    if val_acc > best_acc:\n",
        "        best_acc = val_acc\n",
        "        torch.save(model.state_dict(), \"best_resnet50_cifar10_training2.pth\")\n",
        "        print(f\"✅ Best model saved at epoch {epoch+1} with test accuracy: {best_acc:.4f}\")\n",
        "\n",
        "# === Final Test Accuracy ===\n",
        "final_test_acc = evaluate(testloader, name=\"Test\")\n",
        "\n",
        "# === Plotting ===\n",
        "epochs = np.arange(1, num_epochs + 1)\n",
        "plt.figure(figsize=(12, 5))\n",
        "\n",
        "# --- Accuracy Plot ---\n",
        "plt.subplot(1, 2, 1)\n",
        "plt.plot(epochs, train_accuracies, label='Train Accuracy')\n",
        "plt.plot(epochs, val_accuracies, label='Val Accuracy')\n",
        "plt.xlabel('Epoch')\n",
        "plt.ylabel('Accuracy (%)')\n",
        "plt.title('Accuracy Over Epochs')\n",
        "plt.legend()\n",
        "plt.grid(True)\n",
        "\n",
        "# --- Loss Plot ---\n",
        "plt.subplot(1, 2, 2)\n",
        "plt.plot(epochs, train_losses, label='Train Loss')\n",
        "plt.plot(epochs, val_losses, label='Val Loss')\n",
        "plt.xlabel('Epoch')\n",
        "plt.ylabel('Loss')\n",
        "plt.title('Loss Over Epochs')\n",
        "plt.legend()\n",
        "plt.grid(True)\n",
        "\n",
        "plt.tight_layout()\n",
        "plt.savefig(\"training_curves.png\")\n",
        "plt.show()\n",
        "\n",
        "print(f\"\\nBest Val Accuracy: {best_acc:.2f}%\")\n",
        "print(f\"Final Test Accuracy: {final_test_acc:.2f}%\")"
      ]
    },
    {
      "cell_type": "markdown",
      "metadata": {
        "id": "IB7acC_RSgbk"
      },
      "source": [
        "## train again"
      ]
    },
    {
      "cell_type": "markdown",
      "metadata": {
        "id": "UTlyWugqSgbl"
      },
      "source": [
        "#### 10 more epochs"
      ]
    },
    {
      "cell_type": "code",
      "execution_count": 1,
      "metadata": {
        "id": "Oy5OPYCmSgbl"
      },
      "outputs": [],
      "source": [
        "# === Training Loop ===\n",
        "num_epochs = 10\n",
        "best_acc = 0\n",
        "for epoch in range(num_epochs):\n",
        "    train(epoch)\n",
        "    val_acc = evaluate(valloader, name=\"Val\")\n",
        "    scheduler.step()\n",
        "\n",
        "    # Save best model\n",
        "    if val_acc > best_acc:\n",
        "        best_acc = val_acc\n",
        "        torch.save(model.state_dict(), \"best_resnet50_cifar10_training2.pth\")\n",
        "        print(f\"✅ Best model saved at epoch {epoch+1} with test accuracy: {best_acc:.4f}\")\n",
        "\n",
        "# === Final Test Accuracy ===\n",
        "final_test_acc = evaluate(testloader, name=\"Test\")"
      ]
    },
    {
      "cell_type": "code",
      "execution_count": null,
      "metadata": {
        "id": "n9ySoja8Sgbl",
        "outputId": "220dde52-163d-46f7-91e3-0c4aa24fd4ce"
      },
      "outputs": [
        {
          "data": {
            "image/png": "[encoded data removed]",
            "text/plain": [
              "<Figure size 1200x500 with 2 Axes>"
            ]
          },
          "metadata": {},
          "output_type": "display_data"
        },
        {
          "name": "stdout",
          "output_type": "stream",
          "text": [
            "\n",
            "Best Val Accuracy: 90.00%\n",
            "Final Test Accuracy: 89.90%\n"
          ]
        }
      ],
      "source": [
        "# === Plotting ===\n",
        "epochs = np.arange(1, 210 + 1)\n",
        "plt.figure(figsize=(12, 5))\n",
        "\n",
        "# --- Accuracy Plot ---\n",
        "plt.subplot(1, 2, 1)\n",
        "plt.plot(epochs, train_accuracies, label='Train Accuracy')\n",
        "plt.plot(epochs, val_accuracies, label='Val Accuracy')\n",
        "plt.xlabel('Epoch')\n",
        "plt.ylabel('Accuracy (%)')\n",
        "plt.title('Accuracy Over Epochs')\n",
        "plt.legend()\n",
        "plt.grid(True)\n",
        "\n",
        "# --- Loss Plot ---\n",
        "plt.subplot(1, 2, 2)\n",
        "plt.plot(epochs, train_losses, label='Train Loss')\n",
        "plt.plot(epochs, val_losses, label='Val Loss')\n",
        "plt.xlabel('Epoch')\n",
        "plt.ylabel('Loss')\n",
        "plt.title('Loss Over Epochs')\n",
        "plt.legend()\n",
        "plt.grid(True)\n",
        "\n",
        "plt.tight_layout()\n",
        "plt.savefig(\"training_curves.png\")\n",
        "plt.show()\n",
        "\n",
        "print(f\"\\nBest Val Accuracy: {best_acc:.2f}%\")\n",
        "print(f\"Final Test Accuracy: {final_test_acc:.2f}%\")"
      ]
    },
    {
      "cell_type": "markdown",
      "metadata": {
        "id": "4UEroyBeSgbl"
      },
      "source": [
        "#### 100 more epochs"
      ]
    },
    {
      "cell_type": "code",
      "execution_count": null,
      "metadata": {
        "id": "XPgBJ4LMSgbl",
        "outputId": "bb95cbb2-3878-4b33-c551-1e2cd098ccf7"
      },
      "outputs": [
        {
          "name": "stderr",
          "output_type": "stream",
          "text": [
            "Epoch [0]: 100%|████████████████████████████████████████████| 352/352 [00:13<00:00, 25.81it/s, acc=99.7, loss=0.0102]\n"
          ]
        },
        {
          "name": "stdout",
          "output_type": "stream",
          "text": [
            "Val Accuracy: 89.08%, Loss: 0.4845\n",
            "✅ Best model saved at epoch 1 with test accuracy: 89.0800\n"
          ]
        },
        {
          "name": "stderr",
          "output_type": "stream",
          "text": [
            "Epoch [1]: 100%|████████████████████████████████████████████| 352/352 [00:13<00:00, 25.74it/s, acc=99.6, loss=0.0122]\n"
          ]
        },
        {
          "name": "stdout",
          "output_type": "stream",
          "text": [
            "Val Accuracy: 89.06%, Loss: 0.4789\n"
          ]
        },
        {
          "name": "stderr",
          "output_type": "stream",
          "text": [
            "Epoch [2]: 100%|████████████████████████████████████████████| 352/352 [00:13<00:00, 26.08it/s, acc=99.6, loss=0.0123]\n"
          ]
        },
        {
          "name": "stdout",
          "output_type": "stream",
          "text": [
            "Val Accuracy: 89.44%, Loss: 0.4772\n",
            "✅ Best model saved at epoch 3 with test accuracy: 89.4400\n"
          ]
        },
        {
          "name": "stderr",
          "output_type": "stream",
          "text": [
            "Epoch [3]: 100%|████████████████████████████████████████████| 352/352 [00:13<00:00, 26.66it/s, acc=99.7, loss=0.0111]\n"
          ]
        },
        {
          "name": "stdout",
          "output_type": "stream",
          "text": [
            "Val Accuracy: 89.36%, Loss: 0.4719\n"
          ]
        },
        {
          "name": "stderr",
          "output_type": "stream",
          "text": [
            "Epoch [4]: 100%|████████████████████████████████████████████| 352/352 [00:13<00:00, 25.41it/s, acc=99.7, loss=0.0114]\n"
          ]
        },
        {
          "name": "stdout",
          "output_type": "stream",
          "text": [
            "Val Accuracy: 89.56%, Loss: 0.4746\n",
            "✅ Best model saved at epoch 5 with test accuracy: 89.5600\n"
          ]
        },
        {
          "name": "stderr",
          "output_type": "stream",
          "text": [
            "Epoch [5]: 100%|████████████████████████████████████████████| 352/352 [00:13<00:00, 25.43it/s, acc=99.6, loss=0.0123]\n"
          ]
        },
        {
          "name": "stdout",
          "output_type": "stream",
          "text": [
            "Val Accuracy: 89.44%, Loss: 0.4888\n"
          ]
        },
        {
          "name": "stderr",
          "output_type": "stream",
          "text": [
            "Epoch [6]: 100%|████████████████████████████████████████████| 352/352 [00:13<00:00, 25.24it/s, acc=99.6, loss=0.0138]\n"
          ]
        },
        {
          "name": "stdout",
          "output_type": "stream",
          "text": [
            "Val Accuracy: 89.20%, Loss: 0.4943\n"
          ]
        },
        {
          "name": "stderr",
          "output_type": "stream",
          "text": [
            "Epoch [7]: 100%|████████████████████████████████████████████| 352/352 [00:14<00:00, 24.67it/s, acc=99.5, loss=0.0167]\n"
          ]
        },
        {
          "name": "stdout",
          "output_type": "stream",
          "text": [
            "Val Accuracy: 89.20%, Loss: 0.4949\n"
          ]
        },
        {
          "name": "stderr",
          "output_type": "stream",
          "text": [
            "Epoch [8]: 100%|████████████████████████████████████████████| 352/352 [00:13<00:00, 25.49it/s, acc=99.5, loss=0.0175]\n"
          ]
        },
        {
          "name": "stdout",
          "output_type": "stream",
          "text": [
            "Val Accuracy: 88.66%, Loss: 0.4877\n"
          ]
        },
        {
          "name": "stderr",
          "output_type": "stream",
          "text": [
            "Epoch [9]: 100%|████████████████████████████████████████████| 352/352 [00:14<00:00, 25.09it/s, acc=99.3, loss=0.0218]\n"
          ]
        },
        {
          "name": "stdout",
          "output_type": "stream",
          "text": [
            "Val Accuracy: 88.68%, Loss: 0.5027\n"
          ]
        },
        {
          "name": "stderr",
          "output_type": "stream",
          "text": [
            "Epoch [10]: 100%|███████████████████████████████████████████| 352/352 [00:13<00:00, 25.51it/s, acc=99.2, loss=0.0235]\n"
          ]
        },
        {
          "name": "stdout",
          "output_type": "stream",
          "text": [
            "Val Accuracy: 88.56%, Loss: 0.5039\n"
          ]
        },
        {
          "name": "stderr",
          "output_type": "stream",
          "text": [
            "Epoch [11]: 100%|███████████████████████████████████████████| 352/352 [00:13<00:00, 25.24it/s, acc=99.1, loss=0.0281]\n"
          ]
        },
        {
          "name": "stdout",
          "output_type": "stream",
          "text": [
            "Val Accuracy: 88.06%, Loss: 0.5145\n"
          ]
        },
        {
          "name": "stderr",
          "output_type": "stream",
          "text": [
            "Epoch [12]: 100%|███████████████████████████████████████████| 352/352 [00:13<00:00, 25.34it/s, acc=98.6, loss=0.0396]\n"
          ]
        },
        {
          "name": "stdout",
          "output_type": "stream",
          "text": [
            "Val Accuracy: 87.66%, Loss: 0.5111\n"
          ]
        },
        {
          "name": "stderr",
          "output_type": "stream",
          "text": [
            "Epoch [13]: 100%|███████████████████████████████████████████| 352/352 [00:13<00:00, 25.28it/s, acc=98.7, loss=0.0394]\n"
          ]
        },
        {
          "name": "stdout",
          "output_type": "stream",
          "text": [
            "Val Accuracy: 88.44%, Loss: 0.4889\n"
          ]
        },
        {
          "name": "stderr",
          "output_type": "stream",
          "text": [
            "Epoch [14]: 100%|███████████████████████████████████████████| 352/352 [00:13<00:00, 25.28it/s, acc=98.4, loss=0.0471]\n"
          ]
        },
        {
          "name": "stdout",
          "output_type": "stream",
          "text": [
            "Val Accuracy: 87.88%, Loss: 0.4970\n"
          ]
        },
        {
          "name": "stderr",
          "output_type": "stream",
          "text": [
            "Epoch [15]: 100%|█████████████████████████████████████████████| 352/352 [00:13<00:00, 26.05it/s, acc=98, loss=0.0556]\n"
          ]
        },
        {
          "name": "stdout",
          "output_type": "stream",
          "text": [
            "Val Accuracy: 87.14%, Loss: 0.5161\n"
          ]
        },
        {
          "name": "stderr",
          "output_type": "stream",
          "text": [
            "Epoch [16]: 100%|███████████████████████████████████████████| 352/352 [00:13<00:00, 25.43it/s, acc=97.9, loss=0.0612]\n"
          ]
        },
        {
          "name": "stdout",
          "output_type": "stream",
          "text": [
            "Val Accuracy: 87.76%, Loss: 0.4791\n"
          ]
        },
        {
          "name": "stderr",
          "output_type": "stream",
          "text": [
            "Epoch [17]: 100%|███████████████████████████████████████████| 352/352 [00:13<00:00, 25.26it/s, acc=97.8, loss=0.0652]\n"
          ]
        },
        {
          "name": "stdout",
          "output_type": "stream",
          "text": [
            "Val Accuracy: 87.26%, Loss: 0.5145\n"
          ]
        },
        {
          "name": "stderr",
          "output_type": "stream",
          "text": [
            "Epoch [18]: 100%|████████████████████████████████████████████| 352/352 [00:14<00:00, 24.42it/s, acc=97.5, loss=0.075]\n"
          ]
        },
        {
          "name": "stdout",
          "output_type": "stream",
          "text": [
            "Val Accuracy: 86.88%, Loss: 0.5072\n"
          ]
        },
        {
          "name": "stderr",
          "output_type": "stream",
          "text": [
            "Epoch [19]: 100%|██████████████████████████████████████████████| 352/352 [00:14<00:00, 25.08it/s, acc=97, loss=0.086]\n"
          ]
        },
        {
          "name": "stdout",
          "output_type": "stream",
          "text": [
            "Val Accuracy: 87.34%, Loss: 0.4665\n"
          ]
        },
        {
          "name": "stderr",
          "output_type": "stream",
          "text": [
            "Epoch [20]: 100%|███████████████████████████████████████████| 352/352 [00:14<00:00, 24.70it/s, acc=96.7, loss=0.0945]\n"
          ]
        },
        {
          "name": "stdout",
          "output_type": "stream",
          "text": [
            "Val Accuracy: 87.12%, Loss: 0.4736\n"
          ]
        },
        {
          "name": "stderr",
          "output_type": "stream",
          "text": [
            "Epoch [21]: 100%|████████████████████████████████████████████| 352/352 [00:14<00:00, 25.07it/s, acc=96.3, loss=0.107]\n"
          ]
        },
        {
          "name": "stdout",
          "output_type": "stream",
          "text": [
            "Val Accuracy: 86.00%, Loss: 0.5004\n"
          ]
        },
        {
          "name": "stderr",
          "output_type": "stream",
          "text": [
            "Epoch [22]: 100%|████████████████████████████████████████████| 352/352 [00:14<00:00, 25.01it/s, acc=96.1, loss=0.112]\n"
          ]
        },
        {
          "name": "stdout",
          "output_type": "stream",
          "text": [
            "Val Accuracy: 86.10%, Loss: 0.4937\n"
          ]
        },
        {
          "name": "stderr",
          "output_type": "stream",
          "text": [
            "Epoch [23]: 100%|████████████████████████████████████████████| 352/352 [00:13<00:00, 25.68it/s, acc=95.8, loss=0.121]\n"
          ]
        },
        {
          "name": "stdout",
          "output_type": "stream",
          "text": [
            "Val Accuracy: 86.38%, Loss: 0.4906\n"
          ]
        },
        {
          "name": "stderr",
          "output_type": "stream",
          "text": [
            "Epoch [24]: 100%|████████████████████████████████████████████| 352/352 [00:13<00:00, 25.54it/s, acc=95.6, loss=0.126]\n"
          ]
        },
        {
          "name": "stdout",
          "output_type": "stream",
          "text": [
            "Val Accuracy: 86.12%, Loss: 0.4840\n"
          ]
        },
        {
          "name": "stderr",
          "output_type": "stream",
          "text": [
            "Epoch [25]: 100%|██████████████████████████████████████████████| 352/352 [00:14<00:00, 24.86it/s, acc=95, loss=0.145]\n"
          ]
        },
        {
          "name": "stdout",
          "output_type": "stream",
          "text": [
            "Val Accuracy: 85.30%, Loss: 0.5012\n"
          ]
        },
        {
          "name": "stderr",
          "output_type": "stream",
          "text": [
            "Epoch [26]: 100%|████████████████████████████████████████████| 352/352 [00:14<00:00, 24.78it/s, acc=94.9, loss=0.149]\n"
          ]
        },
        {
          "name": "stdout",
          "output_type": "stream",
          "text": [
            "Val Accuracy: 85.48%, Loss: 0.4943\n"
          ]
        },
        {
          "name": "stderr",
          "output_type": "stream",
          "text": [
            "Epoch [27]: 100%|████████████████████████████████████████████| 352/352 [00:14<00:00, 24.49it/s, acc=94.7, loss=0.158]\n"
          ]
        },
        {
          "name": "stdout",
          "output_type": "stream",
          "text": [
            "Val Accuracy: 85.48%, Loss: 0.4923\n"
          ]
        },
        {
          "name": "stderr",
          "output_type": "stream",
          "text": [
            "Epoch [28]: 100%|████████████████████████████████████████████| 352/352 [00:13<00:00, 25.19it/s, acc=94.3, loss=0.166]\n"
          ]
        },
        {
          "name": "stdout",
          "output_type": "stream",
          "text": [
            "Val Accuracy: 84.92%, Loss: 0.5056\n"
          ]
        },
        {
          "name": "stderr",
          "output_type": "stream",
          "text": [
            "Epoch [29]: 100%|████████████████████████████████████████████| 352/352 [00:14<00:00, 24.76it/s, acc=94.4, loss=0.164]\n"
          ]
        },
        {
          "name": "stdout",
          "output_type": "stream",
          "text": [
            "Val Accuracy: 84.76%, Loss: 0.5264\n"
          ]
        },
        {
          "name": "stderr",
          "output_type": "stream",
          "text": [
            "Epoch [30]: 100%|████████████████████████████████████████████| 352/352 [00:14<00:00, 25.03it/s, acc=93.6, loss=0.185]\n"
          ]
        },
        {
          "name": "stdout",
          "output_type": "stream",
          "text": [
            "Val Accuracy: 85.32%, Loss: 0.4851\n"
          ]
        },
        {
          "name": "stderr",
          "output_type": "stream",
          "text": [
            "Epoch [31]: 100%|████████████████████████████████████████████| 352/352 [00:14<00:00, 24.94it/s, acc=93.4, loss=0.188]\n"
          ]
        },
        {
          "name": "stdout",
          "output_type": "stream",
          "text": [
            "Val Accuracy: 84.04%, Loss: 0.5284\n"
          ]
        },
        {
          "name": "stderr",
          "output_type": "stream",
          "text": [
            "Epoch [32]: 100%|████████████████████████████████████████████| 352/352 [00:14<00:00, 24.93it/s, acc=93.2, loss=0.198]\n"
          ]
        },
        {
          "name": "stdout",
          "output_type": "stream",
          "text": [
            "Val Accuracy: 84.86%, Loss: 0.5233\n"
          ]
        },
        {
          "name": "stderr",
          "output_type": "stream",
          "text": [
            "Epoch [33]: 100%|████████████████████████████████████████████| 352/352 [00:14<00:00, 24.77it/s, acc=93.1, loss=0.202]\n"
          ]
        },
        {
          "name": "stdout",
          "output_type": "stream",
          "text": [
            "Val Accuracy: 85.12%, Loss: 0.4907\n"
          ]
        },
        {
          "name": "stderr",
          "output_type": "stream",
          "text": [
            "Epoch [34]: 100%|█████████████████████████████████████████████| 352/352 [00:14<00:00, 24.82it/s, acc=92.7, loss=0.21]\n"
          ]
        },
        {
          "name": "stdout",
          "output_type": "stream",
          "text": [
            "Val Accuracy: 83.10%, Loss: 0.5454\n"
          ]
        },
        {
          "name": "stderr",
          "output_type": "stream",
          "text": [
            "Epoch [35]: 100%|█████████████████████████████████████████████| 352/352 [00:14<00:00, 24.90it/s, acc=92.4, loss=0.22]\n"
          ]
        },
        {
          "name": "stdout",
          "output_type": "stream",
          "text": [
            "Val Accuracy: 84.54%, Loss: 0.5146\n"
          ]
        },
        {
          "name": "stderr",
          "output_type": "stream",
          "text": [
            "Epoch [36]: 100%|████████████████████████████████████████████| 352/352 [00:14<00:00, 24.79it/s, acc=92.3, loss=0.221]\n"
          ]
        },
        {
          "name": "stdout",
          "output_type": "stream",
          "text": [
            "Val Accuracy: 84.48%, Loss: 0.5133\n"
          ]
        },
        {
          "name": "stderr",
          "output_type": "stream",
          "text": [
            "Epoch [37]: 100%|██████████████████████████████████████████████| 352/352 [00:14<00:00, 24.74it/s, acc=92, loss=0.228]\n"
          ]
        },
        {
          "name": "stdout",
          "output_type": "stream",
          "text": [
            "Val Accuracy: 84.34%, Loss: 0.5160\n"
          ]
        },
        {
          "name": "stderr",
          "output_type": "stream",
          "text": [
            "Epoch [38]: 100%|████████████████████████████████████████████| 352/352 [00:14<00:00, 24.90it/s, acc=91.9, loss=0.234]\n"
          ]
        },
        {
          "name": "stdout",
          "output_type": "stream",
          "text": [
            "Val Accuracy: 83.64%, Loss: 0.5153\n"
          ]
        },
        {
          "name": "stderr",
          "output_type": "stream",
          "text": [
            "Epoch [39]: 100%|██████████████████████████████████████████████| 352/352 [00:14<00:00, 24.99it/s, acc=92, loss=0.231]\n"
          ]
        },
        {
          "name": "stdout",
          "output_type": "stream",
          "text": [
            "Val Accuracy: 82.82%, Loss: 0.5536\n"
          ]
        },
        {
          "name": "stderr",
          "output_type": "stream",
          "text": [
            "Epoch [40]: 100%|█████████████████████████████████████████████| 352/352 [00:14<00:00, 24.66it/s, acc=91.6, loss=0.24]\n"
          ]
        },
        {
          "name": "stdout",
          "output_type": "stream",
          "text": [
            "Val Accuracy: 82.70%, Loss: 0.5558\n"
          ]
        },
        {
          "name": "stderr",
          "output_type": "stream",
          "text": [
            "Epoch [41]: 100%|████████████████████████████████████████████| 352/352 [00:14<00:00, 24.90it/s, acc=91.6, loss=0.241]\n"
          ]
        },
        {
          "name": "stdout",
          "output_type": "stream",
          "text": [
            "Val Accuracy: 85.12%, Loss: 0.4937\n"
          ]
        },
        {
          "name": "stderr",
          "output_type": "stream",
          "text": [
            "Epoch [42]: 100%|████████████████████████████████████████████| 352/352 [00:14<00:00, 24.90it/s, acc=91.6, loss=0.243]\n"
          ]
        },
        {
          "name": "stdout",
          "output_type": "stream",
          "text": [
            "Val Accuracy: 82.98%, Loss: 0.5572\n"
          ]
        },
        {
          "name": "stderr",
          "output_type": "stream",
          "text": [
            "Epoch [43]: 100%|████████████████████████████████████████████| 352/352 [00:13<00:00, 25.18it/s, acc=91.5, loss=0.248]\n"
          ]
        },
        {
          "name": "stdout",
          "output_type": "stream",
          "text": [
            "Val Accuracy: 81.98%, Loss: 0.5628\n"
          ]
        },
        {
          "name": "stderr",
          "output_type": "stream",
          "text": [
            "Epoch [44]: 100%|███████████████████████████████████████████████| 352/352 [00:14<00:00, 24.90it/s, acc=91, loss=0.26]\n"
          ]
        },
        {
          "name": "stdout",
          "output_type": "stream",
          "text": [
            "Val Accuracy: 82.94%, Loss: 0.5527\n"
          ]
        },
        {
          "name": "stderr",
          "output_type": "stream",
          "text": [
            "Epoch [45]: 100%|█████████████████████████████████████████████| 352/352 [00:14<00:00, 24.99it/s, acc=91.1, loss=0.26]\n"
          ]
        },
        {
          "name": "stdout",
          "output_type": "stream",
          "text": [
            "Val Accuracy: 83.74%, Loss: 0.5186\n"
          ]
        },
        {
          "name": "stderr",
          "output_type": "stream",
          "text": [
            "Epoch [46]: 100%|████████████████████████████████████████████| 352/352 [00:13<00:00, 25.23it/s, acc=91.1, loss=0.259]\n"
          ]
        },
        {
          "name": "stdout",
          "output_type": "stream",
          "text": [
            "Val Accuracy: 84.00%, Loss: 0.5082\n"
          ]
        },
        {
          "name": "stderr",
          "output_type": "stream",
          "text": [
            "Epoch [47]: 100%|████████████████████████████████████████████| 352/352 [00:13<00:00, 25.68it/s, acc=90.8, loss=0.268]\n"
          ]
        },
        {
          "name": "stdout",
          "output_type": "stream",
          "text": [
            "Val Accuracy: 80.62%, Loss: 0.6157\n"
          ]
        },
        {
          "name": "stderr",
          "output_type": "stream",
          "text": [
            "Epoch [48]: 100%|████████████████████████████████████████████| 352/352 [00:13<00:00, 25.18it/s, acc=90.6, loss=0.271]\n"
          ]
        },
        {
          "name": "stdout",
          "output_type": "stream",
          "text": [
            "Val Accuracy: 81.68%, Loss: 0.5770\n"
          ]
        },
        {
          "name": "stderr",
          "output_type": "stream",
          "text": [
            "Epoch [49]: 100%|████████████████████████████████████████████| 352/352 [00:14<00:00, 24.74it/s, acc=90.8, loss=0.268]\n"
          ]
        },
        {
          "name": "stdout",
          "output_type": "stream",
          "text": [
            "Val Accuracy: 84.38%, Loss: 0.4994\n"
          ]
        },
        {
          "name": "stderr",
          "output_type": "stream",
          "text": [
            "Epoch [50]: 100%|████████████████████████████████████████████| 352/352 [00:14<00:00, 24.60it/s, acc=90.2, loss=0.285]\n"
          ]
        },
        {
          "name": "stdout",
          "output_type": "stream",
          "text": [
            "Val Accuracy: 83.34%, Loss: 0.5297\n"
          ]
        },
        {
          "name": "stderr",
          "output_type": "stream",
          "text": [
            "Epoch [51]: 100%|████████████████████████████████████████████| 352/352 [00:14<00:00, 24.64it/s, acc=90.6, loss=0.273]\n"
          ]
        },
        {
          "name": "stdout",
          "output_type": "stream",
          "text": [
            "Val Accuracy: 82.42%, Loss: 0.5493\n"
          ]
        },
        {
          "name": "stderr",
          "output_type": "stream",
          "text": [
            "Epoch [52]: 100%|████████████████████████████████████████████| 352/352 [00:13<00:00, 25.26it/s, acc=90.3, loss=0.281]\n"
          ]
        },
        {
          "name": "stdout",
          "output_type": "stream",
          "text": [
            "Val Accuracy: 82.70%, Loss: 0.5458\n"
          ]
        },
        {
          "name": "stderr",
          "output_type": "stream",
          "text": [
            "Epoch [53]: 100%|████████████████████████████████████████████| 352/352 [00:13<00:00, 25.16it/s, acc=90.1, loss=0.291]\n"
          ]
        },
        {
          "name": "stdout",
          "output_type": "stream",
          "text": [
            "Val Accuracy: 81.04%, Loss: 0.6054\n"
          ]
        },
        {
          "name": "stderr",
          "output_type": "stream",
          "text": [
            "Epoch [54]: 100%|████████████████████████████████████████████| 352/352 [00:13<00:00, 25.19it/s, acc=89.8, loss=0.293]\n"
          ]
        },
        {
          "name": "stdout",
          "output_type": "stream",
          "text": [
            "Val Accuracy: 83.50%, Loss: 0.5076\n"
          ]
        },
        {
          "name": "stderr",
          "output_type": "stream",
          "text": [
            "Epoch [55]: 100%|██████████████████████████████████████████████| 352/352 [00:13<00:00, 25.51it/s, acc=89.7, loss=0.3]\n"
          ]
        },
        {
          "name": "stdout",
          "output_type": "stream",
          "text": [
            "Val Accuracy: 82.58%, Loss: 0.5509\n"
          ]
        },
        {
          "name": "stderr",
          "output_type": "stream",
          "text": [
            "Epoch [56]: 100%|████████████████████████████████████████████| 352/352 [00:14<00:00, 25.12it/s, acc=89.6, loss=0.301]\n"
          ]
        },
        {
          "name": "stdout",
          "output_type": "stream",
          "text": [
            "Val Accuracy: 82.88%, Loss: 0.5236\n"
          ]
        },
        {
          "name": "stderr",
          "output_type": "stream",
          "text": [
            "Epoch [57]: 100%|████████████████████████████████████████████| 352/352 [00:14<00:00, 24.75it/s, acc=89.5, loss=0.306]\n"
          ]
        },
        {
          "name": "stdout",
          "output_type": "stream",
          "text": [
            "Val Accuracy: 83.78%, Loss: 0.4994\n"
          ]
        },
        {
          "name": "stderr",
          "output_type": "stream",
          "text": [
            "Epoch [58]: 100%|████████████████████████████████████████████| 352/352 [00:14<00:00, 24.81it/s, acc=89.6, loss=0.305]\n"
          ]
        },
        {
          "name": "stdout",
          "output_type": "stream",
          "text": [
            "Val Accuracy: 83.48%, Loss: 0.5112\n"
          ]
        },
        {
          "name": "stderr",
          "output_type": "stream",
          "text": [
            "Epoch [59]: 100%|████████████████████████████████████████████| 352/352 [00:13<00:00, 25.21it/s, acc=88.9, loss=0.317]\n"
          ]
        },
        {
          "name": "stdout",
          "output_type": "stream",
          "text": [
            "Val Accuracy: 82.24%, Loss: 0.5443\n"
          ]
        },
        {
          "name": "stderr",
          "output_type": "stream",
          "text": [
            "Epoch [60]: 100%|████████████████████████████████████████████| 352/352 [00:13<00:00, 25.30it/s, acc=89.2, loss=0.314]\n"
          ]
        },
        {
          "name": "stdout",
          "output_type": "stream",
          "text": [
            "Val Accuracy: 83.48%, Loss: 0.5085\n"
          ]
        },
        {
          "name": "stderr",
          "output_type": "stream",
          "text": [
            "Epoch [61]: 100%|████████████████████████████████████████████| 352/352 [00:13<00:00, 25.86it/s, acc=88.9, loss=0.322]\n"
          ]
        },
        {
          "name": "stdout",
          "output_type": "stream",
          "text": [
            "Val Accuracy: 82.96%, Loss: 0.5321\n"
          ]
        },
        {
          "name": "stderr",
          "output_type": "stream",
          "text": [
            "Epoch [62]: 100%|██████████████████████████████████████████████| 352/352 [00:14<00:00, 24.95it/s, acc=89, loss=0.318]\n"
          ]
        },
        {
          "name": "stdout",
          "output_type": "stream",
          "text": [
            "Val Accuracy: 81.70%, Loss: 0.5831\n"
          ]
        },
        {
          "name": "stderr",
          "output_type": "stream",
          "text": [
            "Epoch [63]: 100%|██████████████████████████████████████████████| 352/352 [00:14<00:00, 24.70it/s, acc=89, loss=0.324]\n"
          ]
        },
        {
          "name": "stdout",
          "output_type": "stream",
          "text": [
            "Val Accuracy: 82.48%, Loss: 0.5345\n"
          ]
        },
        {
          "name": "stderr",
          "output_type": "stream",
          "text": [
            "Epoch [64]: 100%|████████████████████████████████████████████| 352/352 [00:14<00:00, 24.91it/s, acc=88.6, loss=0.331]\n"
          ]
        },
        {
          "name": "stdout",
          "output_type": "stream",
          "text": [
            "Val Accuracy: 82.36%, Loss: 0.5608\n"
          ]
        },
        {
          "name": "stderr",
          "output_type": "stream",
          "text": [
            "Epoch [65]: 100%|████████████████████████████████████████████| 352/352 [00:14<00:00, 24.75it/s, acc=88.5, loss=0.333]\n"
          ]
        },
        {
          "name": "stdout",
          "output_type": "stream",
          "text": [
            "Val Accuracy: 83.04%, Loss: 0.5174\n"
          ]
        },
        {
          "name": "stderr",
          "output_type": "stream",
          "text": [
            "Epoch [66]: 100%|████████████████████████████████████████████| 352/352 [00:14<00:00, 24.46it/s, acc=88.5, loss=0.335]\n"
          ]
        },
        {
          "name": "stdout",
          "output_type": "stream",
          "text": [
            "Val Accuracy: 82.62%, Loss: 0.5425\n"
          ]
        },
        {
          "name": "stderr",
          "output_type": "stream",
          "text": [
            "Epoch [67]: 100%|████████████████████████████████████████████| 352/352 [00:13<00:00, 25.63it/s, acc=88.5, loss=0.335]\n"
          ]
        },
        {
          "name": "stdout",
          "output_type": "stream",
          "text": [
            "Val Accuracy: 80.56%, Loss: 0.6037\n"
          ]
        },
        {
          "name": "stderr",
          "output_type": "stream",
          "text": [
            "Epoch [68]: 100%|█████████████████████████████████████████████| 352/352 [00:14<00:00, 24.84it/s, acc=88.4, loss=0.34]\n"
          ]
        },
        {
          "name": "stdout",
          "output_type": "stream",
          "text": [
            "Val Accuracy: 80.30%, Loss: 0.6452\n"
          ]
        },
        {
          "name": "stderr",
          "output_type": "stream",
          "text": [
            "Epoch [69]: 100%|████████████████████████████████████████████| 352/352 [00:13<00:00, 25.36it/s, acc=87.9, loss=0.352]\n"
          ]
        },
        {
          "name": "stdout",
          "output_type": "stream",
          "text": [
            "Val Accuracy: 82.10%, Loss: 0.5411\n"
          ]
        },
        {
          "name": "stderr",
          "output_type": "stream",
          "text": [
            "Epoch [70]: 100%|██████████████████████████████████████████████| 352/352 [00:13<00:00, 25.48it/s, acc=88, loss=0.354]\n"
          ]
        },
        {
          "name": "stdout",
          "output_type": "stream",
          "text": [
            "Val Accuracy: 82.56%, Loss: 0.5253\n"
          ]
        },
        {
          "name": "stderr",
          "output_type": "stream",
          "text": [
            "Epoch [71]: 100%|████████████████████████████████████████████| 352/352 [00:14<00:00, 24.90it/s, acc=87.7, loss=0.358]\n"
          ]
        },
        {
          "name": "stdout",
          "output_type": "stream",
          "text": [
            "Val Accuracy: 81.92%, Loss: 0.5465\n"
          ]
        },
        {
          "name": "stderr",
          "output_type": "stream",
          "text": [
            "Epoch [72]: 100%|████████████████████████████████████████████| 352/352 [00:13<00:00, 25.16it/s, acc=87.6, loss=0.361]\n"
          ]
        },
        {
          "name": "stdout",
          "output_type": "stream",
          "text": [
            "Val Accuracy: 82.08%, Loss: 0.5515\n"
          ]
        },
        {
          "name": "stderr",
          "output_type": "stream",
          "text": [
            "Epoch [73]: 100%|████████████████████████████████████████████| 352/352 [00:14<00:00, 24.98it/s, acc=87.5, loss=0.367]\n"
          ]
        },
        {
          "name": "stdout",
          "output_type": "stream",
          "text": [
            "Val Accuracy: 80.72%, Loss: 0.6061\n"
          ]
        },
        {
          "name": "stderr",
          "output_type": "stream",
          "text": [
            "Epoch [74]: 100%|████████████████████████████████████████████| 352/352 [00:14<00:00, 25.05it/s, acc=87.4, loss=0.366]\n"
          ]
        },
        {
          "name": "stdout",
          "output_type": "stream",
          "text": [
            "Val Accuracy: 81.22%, Loss: 0.5664\n"
          ]
        },
        {
          "name": "stderr",
          "output_type": "stream",
          "text": [
            "Epoch [75]: 100%|████████████████████████████████████████████| 352/352 [00:13<00:00, 25.35it/s, acc=87.3, loss=0.368]\n"
          ]
        },
        {
          "name": "stdout",
          "output_type": "stream",
          "text": [
            "Val Accuracy: 82.08%, Loss: 0.5488\n"
          ]
        },
        {
          "name": "stderr",
          "output_type": "stream",
          "text": [
            "Epoch [76]: 100%|████████████████████████████████████████████| 352/352 [00:13<00:00, 25.46it/s, acc=87.1, loss=0.376]\n"
          ]
        },
        {
          "name": "stdout",
          "output_type": "stream",
          "text": [
            "Val Accuracy: 82.56%, Loss: 0.5219\n"
          ]
        },
        {
          "name": "stderr",
          "output_type": "stream",
          "text": [
            "Epoch [77]: 100%|█████████████████████████████████████████████| 352/352 [00:14<00:00, 24.73it/s, acc=87.2, loss=0.38]\n"
          ]
        },
        {
          "name": "stdout",
          "output_type": "stream",
          "text": [
            "Val Accuracy: 80.52%, Loss: 0.6072\n"
          ]
        },
        {
          "name": "stderr",
          "output_type": "stream",
          "text": [
            "Epoch [78]: 100%|████████████████████████████████████████████| 352/352 [00:14<00:00, 24.43it/s, acc=86.9, loss=0.384]\n"
          ]
        },
        {
          "name": "stdout",
          "output_type": "stream",
          "text": [
            "Val Accuracy: 78.40%, Loss: 0.6861\n"
          ]
        },
        {
          "name": "stderr",
          "output_type": "stream",
          "text": [
            "Epoch [79]: 100%|████████████████████████████████████████████| 352/352 [00:13<00:00, 25.60it/s, acc=86.6, loss=0.393]\n"
          ]
        },
        {
          "name": "stdout",
          "output_type": "stream",
          "text": [
            "Val Accuracy: 81.04%, Loss: 0.6105\n"
          ]
        },
        {
          "name": "stderr",
          "output_type": "stream",
          "text": [
            "Epoch [80]: 100%|████████████████████████████████████████████| 352/352 [00:14<00:00, 24.99it/s, acc=86.7, loss=0.389]\n"
          ]
        },
        {
          "name": "stdout",
          "output_type": "stream",
          "text": [
            "Val Accuracy: 82.84%, Loss: 0.5281\n"
          ]
        },
        {
          "name": "stderr",
          "output_type": "stream",
          "text": [
            "Epoch [81]: 100%|████████████████████████████████████████████| 352/352 [00:13<00:00, 25.41it/s, acc=86.5, loss=0.394]\n"
          ]
        },
        {
          "name": "stdout",
          "output_type": "stream",
          "text": [
            "Val Accuracy: 79.78%, Loss: 0.6235\n"
          ]
        },
        {
          "name": "stderr",
          "output_type": "stream",
          "text": [
            "Epoch [82]: 100%|██████████████████████████████████████████████| 352/352 [00:14<00:00, 24.96it/s, acc=86, loss=0.408]\n"
          ]
        },
        {
          "name": "stdout",
          "output_type": "stream",
          "text": [
            "Val Accuracy: 80.38%, Loss: 0.6104\n"
          ]
        },
        {
          "name": "stderr",
          "output_type": "stream",
          "text": [
            "Epoch [83]: 100%|████████████████████████████████████████████| 352/352 [00:14<00:00, 24.90it/s, acc=86.1, loss=0.405]\n"
          ]
        },
        {
          "name": "stdout",
          "output_type": "stream",
          "text": [
            "Val Accuracy: 79.88%, Loss: 0.5971\n"
          ]
        },
        {
          "name": "stderr",
          "output_type": "stream",
          "text": [
            "Epoch [84]: 100%|████████████████████████████████████████████| 352/352 [00:13<00:00, 25.18it/s, acc=86.1, loss=0.405]\n"
          ]
        },
        {
          "name": "stdout",
          "output_type": "stream",
          "text": [
            "Val Accuracy: 82.08%, Loss: 0.5428\n"
          ]
        },
        {
          "name": "stderr",
          "output_type": "stream",
          "text": [
            "Epoch [85]: 100%|██████████████████████████████████████████████| 352/352 [00:13<00:00, 25.51it/s, acc=86, loss=0.408]\n"
          ]
        },
        {
          "name": "stdout",
          "output_type": "stream",
          "text": [
            "Val Accuracy: 78.68%, Loss: 0.6645\n"
          ]
        },
        {
          "name": "stderr",
          "output_type": "stream",
          "text": [
            "Epoch [86]: 100%|████████████████████████████████████████████| 352/352 [00:14<00:00, 24.96it/s, acc=85.8, loss=0.417]\n"
          ]
        },
        {
          "name": "stdout",
          "output_type": "stream",
          "text": [
            "Val Accuracy: 81.48%, Loss: 0.5684\n"
          ]
        },
        {
          "name": "stderr",
          "output_type": "stream",
          "text": [
            "Epoch [87]: 100%|████████████████████████████████████████████| 352/352 [00:14<00:00, 24.83it/s, acc=85.5, loss=0.424]\n"
          ]
        },
        {
          "name": "stdout",
          "output_type": "stream",
          "text": [
            "Val Accuracy: 79.64%, Loss: 0.6119\n"
          ]
        },
        {
          "name": "stderr",
          "output_type": "stream",
          "text": [
            "Epoch [88]: 100%|████████████████████████████████████████████| 352/352 [00:14<00:00, 24.69it/s, acc=85.4, loss=0.428]\n"
          ]
        },
        {
          "name": "stdout",
          "output_type": "stream",
          "text": [
            "Val Accuracy: 79.24%, Loss: 0.6094\n"
          ]
        },
        {
          "name": "stderr",
          "output_type": "stream",
          "text": [
            "Epoch [89]: 100%|████████████████████████████████████████████| 352/352 [00:14<00:00, 24.96it/s, acc=85.6, loss=0.423]\n"
          ]
        },
        {
          "name": "stdout",
          "output_type": "stream",
          "text": [
            "Val Accuracy: 77.12%, Loss: 0.6752\n"
          ]
        },
        {
          "name": "stderr",
          "output_type": "stream",
          "text": [
            "Epoch [90]: 100%|████████████████████████████████████████████| 352/352 [00:14<00:00, 24.97it/s, acc=85.4, loss=0.432]\n"
          ]
        },
        {
          "name": "stdout",
          "output_type": "stream",
          "text": [
            "Val Accuracy: 80.30%, Loss: 0.5893\n"
          ]
        },
        {
          "name": "stderr",
          "output_type": "stream",
          "text": [
            "Epoch [91]: 100%|████████████████████████████████████████████| 352/352 [00:14<00:00, 24.51it/s, acc=85.3, loss=0.433]\n"
          ]
        },
        {
          "name": "stdout",
          "output_type": "stream",
          "text": [
            "Val Accuracy: 80.04%, Loss: 0.6021\n"
          ]
        },
        {
          "name": "stderr",
          "output_type": "stream",
          "text": [
            "Epoch [92]: 100%|████████████████████████████████████████████| 352/352 [00:13<00:00, 25.35it/s, acc=85.2, loss=0.435]\n"
          ]
        },
        {
          "name": "stdout",
          "output_type": "stream",
          "text": [
            "Val Accuracy: 80.68%, Loss: 0.5734\n"
          ]
        },
        {
          "name": "stderr",
          "output_type": "stream",
          "text": [
            "Epoch [93]: 100%|████████████████████████████████████████████| 352/352 [00:14<00:00, 24.70it/s, acc=84.9, loss=0.441]\n"
          ]
        },
        {
          "name": "stdout",
          "output_type": "stream",
          "text": [
            "Val Accuracy: 80.72%, Loss: 0.5803\n"
          ]
        },
        {
          "name": "stderr",
          "output_type": "stream",
          "text": [
            "Epoch [94]: 100%|██████████████████████████████████████████████| 352/352 [00:14<00:00, 24.94it/s, acc=85, loss=0.444]\n"
          ]
        },
        {
          "name": "stdout",
          "output_type": "stream",
          "text": [
            "Val Accuracy: 80.16%, Loss: 0.6057\n"
          ]
        },
        {
          "name": "stderr",
          "output_type": "stream",
          "text": [
            "Epoch [95]: 100%|████████████████████████████████████████████| 352/352 [00:13<00:00, 25.19it/s, acc=85.2, loss=0.444]\n"
          ]
        },
        {
          "name": "stdout",
          "output_type": "stream",
          "text": [
            "Val Accuracy: 78.16%, Loss: 0.6427\n"
          ]
        },
        {
          "name": "stderr",
          "output_type": "stream",
          "text": [
            "Epoch [96]: 100%|████████████████████████████████████████████| 352/352 [00:14<00:00, 24.72it/s, acc=84.5, loss=0.458]\n"
          ]
        },
        {
          "name": "stdout",
          "output_type": "stream",
          "text": [
            "Val Accuracy: 78.66%, Loss: 0.6228\n"
          ]
        },
        {
          "name": "stderr",
          "output_type": "stream",
          "text": [
            "Epoch [97]: 100%|████████████████████████████████████████████| 352/352 [00:14<00:00, 24.98it/s, acc=84.7, loss=0.453]\n"
          ]
        },
        {
          "name": "stdout",
          "output_type": "stream",
          "text": [
            "Val Accuracy: 78.16%, Loss: 0.6406\n"
          ]
        },
        {
          "name": "stderr",
          "output_type": "stream",
          "text": [
            "Epoch [98]: 100%|████████████████████████████████████████████| 352/352 [00:14<00:00, 24.92it/s, acc=84.3, loss=0.461]\n"
          ]
        },
        {
          "name": "stdout",
          "output_type": "stream",
          "text": [
            "Val Accuracy: 79.96%, Loss: 0.6370\n"
          ]
        },
        {
          "name": "stderr",
          "output_type": "stream",
          "text": [
            "Epoch [99]: 100%|████████████████████████████████████████████| 352/352 [00:13<00:00, 25.84it/s, acc=84.2, loss=0.465]\n"
          ]
        },
        {
          "name": "stdout",
          "output_type": "stream",
          "text": [
            "Val Accuracy: 78.30%, Loss: 0.6595\n",
            "Test Accuracy: 79.27%, Loss: 0.6264\n"
          ]
        }
      ],
      "source": [
        "# === Training Loop ===\n",
        "num_epochs = 100\n",
        "best_acc = 0  # should not have done this!\n",
        "for epoch in range(num_epochs):\n",
        "    train(epoch)\n",
        "    val_acc = evaluate(valloader, name=\"Val\")\n",
        "    scheduler.step()\n",
        "\n",
        "    # Save best model\n",
        "    if val_acc > best_acc:\n",
        "        best_acc = val_acc\n",
        "        torch.save(model.state_dict(), \"best_resnet50_cifar10_training2.pth\")\n",
        "        print(f\"✅ Best model saved at epoch {epoch+1} with test accuracy: {best_acc:.4f}\")\n",
        "\n",
        "# === Final Test Accuracy ===\n",
        "final_test_acc = evaluate(testloader, name=\"Test\")"
      ]
    },
    {
      "cell_type": "code",
      "execution_count": null,
      "metadata": {
        "id": "tfv83zPgSgbl",
        "outputId": "9e26b1d3-d0aa-4280-bfb0-b3fc15e89de9"
      },
      "outputs": [
        {
          "data": {
            "image/png": "[encoded data removed]",
            "text/plain": [
              "<Figure size 1200x500 with 2 Axes>"
            ]
          },
          "metadata": {},
          "output_type": "display_data"
        },
        {
          "name": "stdout",
          "output_type": "stream",
          "text": [
            "\n",
            "Best Val Accuracy: 89.56%\n",
            "Final Test Accuracy: 79.27%\n"
          ]
        }
      ],
      "source": [
        "# === Plotting ===\n",
        "epochs = np.arange(1, 310 + 1)\n",
        "plt.figure(figsize=(12, 5))\n",
        "\n",
        "# --- Accuracy Plot ---\n",
        "plt.subplot(1, 2, 1)\n",
        "plt.plot(epochs, train_accuracies, label='Train Accuracy')\n",
        "plt.plot(epochs, val_accuracies, label='Val Accuracy')\n",
        "plt.xlabel('Epoch')\n",
        "plt.ylabel('Accuracy (%)')\n",
        "plt.title('Accuracy Over Epochs')\n",
        "plt.legend()\n",
        "plt.grid(True)\n",
        "\n",
        "# --- Loss Plot ---\n",
        "plt.subplot(1, 2, 2)\n",
        "plt.plot(epochs, train_losses, label='Train Loss')\n",
        "plt.plot(epochs, val_losses, label='Val Loss')\n",
        "plt.xlabel('Epoch')\n",
        "plt.ylabel('Loss')\n",
        "plt.title('Loss Over Epochs')\n",
        "plt.legend()\n",
        "plt.grid(True)\n",
        "\n",
        "plt.tight_layout()\n",
        "plt.savefig(\"training_curves.png\")\n",
        "plt.show()\n",
        "\n",
        "print(f\"\\nBest Val Accuracy: {best_acc:.2f}%\")\n",
        "print(f\"Final Test Accuracy: {final_test_acc:.2f}%\")"
      ]
    },
    {
      "cell_type": "markdown",
      "metadata": {
        "id": "KsnFC2_JSgbm"
      },
      "source": [
        "## load model"
      ]
    },
    {
      "cell_type": "code",
      "execution_count": null,
      "metadata": {
        "id": "IsPbhYwKSgbm",
        "outputId": "7297a183-2aab-461e-9f43-4af652740c8d"
      },
      "outputs": [
        {
          "name": "stderr",
          "output_type": "stream",
          "text": [
            "/tmp/ipykernel_1989400/2922128743.py:1: FutureWarning: You are using `torch.load` with `weights_only=False` (the current default value), which uses the default pickle module implicitly. It is possible to construct malicious pickle data which will execute arbitrary code during unpickling (See https://github.com/pytorch/pytorch/blob/main/SECURITY.md#untrusted-models for more details). In a future release, the default value for `weights_only` will be flipped to `True`. This limits the functions that could be executed during unpickling. Arbitrary objects will no longer be allowed to be loaded via this mode unless they are explicitly allowlisted by the user via `torch.serialization.add_safe_globals`. We recommend you start setting `weights_only=True` for any use case where you don't have full control of the loaded file. Please open an issue on GitHub for any issues related to this experimental feature.\n",
            "  loaded_state_dict = torch.load(\"best_resnet50_cifar10.pth\");\n"
          ]
        }
      ],
      "source": [
        "loaded_state_dict = torch.load(\"best_resnet50_cifar10.pth\");"
      ]
    },
    {
      "cell_type": "code",
      "execution_count": null,
      "metadata": {
        "editable": true,
        "tags": [],
        "id": "8MvjczAiSgbm"
      },
      "outputs": [],
      "source": [
        "loaded_vae = timm.create_model(\"resnet50\", pretrained=False, num_classes=10)"
      ]
    },
    {
      "cell_type": "code",
      "execution_count": null,
      "metadata": {
        "scrolled": true,
        "id": "7EKeCnHMSgbm"
      },
      "outputs": [],
      "source": [
        "loaded_vae.load_state_dict(loaded_state_dict)\n",
        "loaded_vae.to(device);"
      ]
    },
    {
      "cell_type": "code",
      "execution_count": null,
      "metadata": {
        "editable": true,
        "tags": [],
        "id": "ZC1XoRwJSgbm",
        "outputId": "c02d60c1-4108-4afa-dbaf-1822cd3972d0"
      },
      "outputs": [
        {
          "name": "stdout",
          "output_type": "stream",
          "text": [
            "Test Accuracy: 89.93%, Loss: 0.4312\n"
          ]
        },
        {
          "data": {
            "text/plain": [
              "89.93"
            ]
          },
          "execution_count": 54,
          "metadata": {},
          "output_type": "execute_result"
        }
      ],
      "source": [
        "def evaluate(net, dataloader, name=\"Val\"):\n",
        "    net.eval()\n",
        "    total_loss = 0\n",
        "    correct = 0\n",
        "    total = 0\n",
        "\n",
        "    with torch.no_grad():\n",
        "        for inputs, targets in dataloader:\n",
        "            inputs, targets = inputs.to(device), targets.to(device)\n",
        "            outputs = net(inputs)\n",
        "            loss = criterion(outputs, targets)\n",
        "\n",
        "            total_loss += loss.item() * inputs.size(0)\n",
        "            _, predicted = outputs.max(1)\n",
        "            total += targets.size(0)\n",
        "            correct += predicted.eq(targets).sum().item()\n",
        "\n",
        "    avg_loss = total_loss / total\n",
        "    acc = 100. * correct / total\n",
        "\n",
        "    print(f\"{name} Accuracy: {acc:.2f}%, Loss: {avg_loss:.4f}\")\n",
        "    return acc\n",
        "\n",
        "evaluate(loaded_vae, testloader, name=\"Test\")"
      ]
    }
  ],
  "metadata": {
    "kaggle": {
      "accelerator": "none",
      "dataSources": [],
      "dockerImageVersionId": 31090,
      "isGpuEnabled": false,
      "isInternetEnabled": true,
      "language": "python",
      "sourceType": "notebook"
    },
    "kernelspec": {
      "display_name": "Python [conda env:rpstn]",
      "language": "python",
      "name": "conda-env-rpstn-py"
    },
    "language_info": {
      "codemirror_mode": {
        "name": "ipython",
        "version": 3
      },
      "file_extension": ".py",
      "mimetype": "text/x-python",
      "name": "python",
      "nbconvert_exporter": "python",
      "pygments_lexer": "ipython3",
      "version": "3.12.2"
    },
    "colab": {
      "provenance": []
    }
  },
  "nbformat": 4,
  "nbformat_minor": 0
}